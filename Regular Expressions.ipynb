{
 "cells": [
  {
   "cell_type": "code",
   "execution_count": 1,
   "id": "58650d14",
   "metadata": {},
   "outputs": [],
   "source": [
    "import re"
   ]
  },
  {
   "cell_type": "code",
   "execution_count": 2,
   "id": "fffcbbca",
   "metadata": {},
   "outputs": [],
   "source": [
    "mystr= '0'"
   ]
  },
  {
   "cell_type": "markdown",
   "id": "f17514b3",
   "metadata": {},
   "source": [
    "### Identifying the Patterns"
   ]
  },
  {
   "cell_type": "code",
   "execution_count": 3,
   "id": "21ec526b",
   "metadata": {},
   "outputs": [
    {
     "name": "stdout",
     "output_type": "stream",
     "text": [
      "<re.Match object; span=(4, 7), match='x23'>\n"
     ]
    }
   ],
   "source": [
    "print(re.search('[a-z][0-9][0-9]','foo1x23bar'))    #a-z first it satisfies the alphabet and 0-9 scnd it satisfies the numeric\n",
    "                                                    #0-9 third it also satisfies the number so alphabet,number,number"
   ]
  },
  {
   "cell_type": "code",
   "execution_count": 4,
   "id": "9e358980",
   "metadata": {},
   "outputs": [
    {
     "name": "stdout",
     "output_type": "stream",
     "text": [
      "<re.Match object; span=(0, 6), match='234456'>\n"
     ]
    }
   ],
   "source": [
    "print(re.search('[0-9]+','234456bazyfejgkou9ejfj8477566556ofakjfhj'))   # 0-9+ means numbers it takes upto another alphbt or any expression comes"
   ]
  },
  {
   "cell_type": "code",
   "execution_count": 5,
   "id": "3a11042b",
   "metadata": {},
   "outputs": [
    {
     "name": "stdout",
     "output_type": "stream",
     "text": [
      "['234456', '9', '8477566556']\n"
     ]
    }
   ],
   "source": [
    "print(re.findall('[0-9]+','234456bazyfejgkou9ejfj8477566556ofakjfh')) # findaall means it find all numerical"
   ]
  },
  {
   "cell_type": "code",
   "execution_count": 6,
   "id": "91c0c3fb",
   "metadata": {},
   "outputs": [
    {
     "name": "stdout",
     "output_type": "stream",
     "text": [
      "['x23']\n"
     ]
    }
   ],
   "source": [
    "print(re.findall('[a-z][0-9][0-9]','foo1x23bar')) "
   ]
  },
  {
   "cell_type": "code",
   "execution_count": 7,
   "id": "b76405d5",
   "metadata": {},
   "outputs": [
    {
     "name": "stdout",
     "output_type": "stream",
     "text": [
      "<re.Match object; span=(5, 8), match='23b'>\n"
     ]
    }
   ],
   "source": [
    "print(re.search('[0-9][0-9][a-z]','foo1x23bar'))"
   ]
  },
  {
   "cell_type": "code",
   "execution_count": 8,
   "id": "b31de3e7",
   "metadata": {},
   "outputs": [
    {
     "name": "stdout",
     "output_type": "stream",
     "text": [
      "['56b', '56o']\n"
     ]
    }
   ],
   "source": [
    "print(re.findall('[0-9][0-9][a-z]','234456bazyfejgkou9ejfj8477566556ofakjfh'))"
   ]
  },
  {
   "cell_type": "code",
   "execution_count": 9,
   "id": "e43877d3",
   "metadata": {},
   "outputs": [
    {
     "name": "stdout",
     "output_type": "stream",
     "text": [
      "<re.Match object; span=(1, 4), match='34b'>\n"
     ]
    }
   ],
   "source": [
    "print(re.search('[0-9][0-9][a-z]','234bazyfegkjou8467756677ofakj'))"
   ]
  },
  {
   "cell_type": "code",
   "execution_count": 10,
   "id": "1318eccb",
   "metadata": {},
   "outputs": [
    {
     "name": "stdout",
     "output_type": "stream",
     "text": [
      "None\n"
     ]
    }
   ],
   "source": [
    "print(re.search('[0-9][0-9][0-9]','12foo34'))"
   ]
  },
  {
   "cell_type": "code",
   "execution_count": 11,
   "id": "c56f3658",
   "metadata": {},
   "outputs": [
    {
     "name": "stdout",
     "output_type": "stream",
     "text": [
      "<re.Match object; span=(11, 13), match='ab'>\n",
      "['ab', 'ab']\n"
     ]
    }
   ],
   "source": [
    "mystring = \"here is an absolute ab string\"\n",
    "print(re.search('ab',mystring))\n",
    "print(re.findall('ab',mystring))"
   ]
  },
  {
   "cell_type": "code",
   "execution_count": 12,
   "id": "463c11f2",
   "metadata": {},
   "outputs": [
    {
     "name": "stdout",
     "output_type": "stream",
     "text": [
      "<re.Match object; span=(0, 2), match='He'>\n",
      "['ab', 'ab']\n"
     ]
    }
   ],
   "source": [
    "mystring = \"Here is an absolute ab string\"\n",
    "print(re.match('He',mystring))\n",
    "print(re.findall('ab',mystring))"
   ]
  },
  {
   "cell_type": "code",
   "execution_count": 13,
   "id": "5bc9e97b",
   "metadata": {},
   "outputs": [
    {
     "name": "stdout",
     "output_type": "stream",
     "text": [
      "['an', 'an']\n",
      "<re.Match object; span=(4, 6), match='an'>\n",
      "<re.Match object; span=(0, 7), match='shivani'>\n"
     ]
    }
   ],
   "source": [
    "shivani = \"shivani is angst about her future\"\n",
    "print(re.findall('an',shivani))\n",
    "print(re.search('an',shivani))\n",
    "print(re.search('shivani',shivani))"
   ]
  },
  {
   "cell_type": "code",
   "execution_count": 14,
   "id": "83816e6c",
   "metadata": {},
   "outputs": [
    {
     "name": "stdout",
     "output_type": "stream",
     "text": [
      "['ab', 'ab', 'ab', 'ab', 'ab', 'ab', 'ab', 'ab']\n"
     ]
    }
   ],
   "source": [
    "print(re.findall('ab', 'Here is an absolute string with another absolute and what about nothing# abaabababab'))"
   ]
  },
  {
   "cell_type": "code",
   "execution_count": 15,
   "id": "2fb92ca3",
   "metadata": {},
   "outputs": [
    {
     "name": "stdout",
     "output_type": "stream",
     "text": [
      "*b*def *b*def *b*def\n"
     ]
    }
   ],
   "source": [
    "import re\n",
    "print(re.sub('[ac]','*','abcdef abcdef abcdef'))"
   ]
  },
  {
   "cell_type": "code",
   "execution_count": 32,
   "id": "d8282f16",
   "metadata": {},
   "outputs": [
    {
     "name": "stdout",
     "output_type": "stream",
     "text": [
      "*b*de *b*def *b*def\n"
     ]
    }
   ],
   "source": [
    "import re\n",
    "print(re.sub('[ac]', '*', 'abcde abcdef abcdef'))    #instead of ac it replace with *  "
   ]
  },
  {
   "cell_type": "code",
   "execution_count": 16,
   "id": "c7f93fde",
   "metadata": {},
   "outputs": [
    {
     "name": "stdout",
     "output_type": "stream",
     "text": [
      "['Hi', 'R,,am,', 'Welcome', 'to', 'Edureka']\n"
     ]
    }
   ],
   "source": [
    "mystring = 'Hi R,,am, Welcome to Edureka'\n",
    "print(re.findall('[a-zA-Z,]+',mystring))"
   ]
  },
  {
   "cell_type": "code",
   "execution_count": 17,
   "id": "92bee66e",
   "metadata": {},
   "outputs": [
    {
     "ename": "SyntaxError",
     "evalue": "EOL while scanning string literal (4269343684.py, line 2)",
     "output_type": "error",
     "traceback": [
      "\u001b[1;36m  Input \u001b[1;32mIn [17]\u001b[1;36m\u001b[0m\n\u001b[1;33m    print(re.findall(r\"[]))\u001b[0m\n\u001b[1;37m                           ^\u001b[0m\n\u001b[1;31mSyntaxError\u001b[0m\u001b[1;31m:\u001b[0m EOL while scanning string literal\n"
     ]
    }
   ],
   "source": [
    "mystring = 'abc_xyz@gmail.com. please comunicate mayank08.parikh@abc.xyz at your convinence.My'\n",
    "print(re.findall(r\"[]))"
   ]
  },
  {
   "cell_type": "code",
   "execution_count": 8,
   "id": "f86513cb",
   "metadata": {},
   "outputs": [
    {
     "name": "stdout",
     "output_type": "stream",
     "text": [
      "['abc_xyz@gmail.com', 'mayank09.parikh@abc.xyz', 'mayank.parikh@abc.xyz']\n"
     ]
    }
   ],
   "source": [
    "mystring = 'abc_xyz@gmail.com. and9 shivani.dussa49@gmailcom Please communicate mayank09.parikh@abc.xyz at your convenience. My alternate email id is mayank.parikh@abc.xyz'\n",
    "#print(re.findall('[a-zA-Z0-9]+[.]*[_0-9a-zA-Z]*@[a-zA-Z]+.[a-zA-Z]+', mystring))  \n",
    "print(re.findall(r\"[a-z0-9\\.\\-_+]+@[a-z0-9\\-+_]+\\.[a-z]+\", mystring))"
   ]
  },
  {
   "cell_type": "code",
   "execution_count": 19,
   "id": "7aed5103",
   "metadata": {},
   "outputs": [
    {
     "name": "stdout",
     "output_type": "stream",
     "text": [
      "['abc_xyz@gmail.com', 'shivani.dussa49@gmail.com', 'mayank09.parikh@abc.xyz', 'mayank.parikh@abc.xyz']\n"
     ]
    }
   ],
   "source": [
    "mystring = 'abc_xyz@gmail.com and9 shivani.dussa49@gmail.com Please communicate mayank09.parikh@abc.xyz at your convenience. My alternate email id is mayank.parikh@abc.xyz'\n",
    "#print(re.findall('[a-zA-Z0-9]+[.]*[_0-9a-zA-Z]*@[a-zA-Z]+.[a-zA-Z]+', mystring))  \n",
    "print(re.findall(r\"[a-z0-9\\.\\-_+]+@[a-z0-9\\-+_.com]+\", mystring))"
   ]
  },
  {
   "cell_type": "code",
   "execution_count": 28,
   "id": "81ed2d60",
   "metadata": {},
   "outputs": [
    {
     "name": "stdout",
     "output_type": "stream",
     "text": [
      "<re.Match object; span=(0, 17), match='abc_xyz@gmail.com'>\n"
     ]
    }
   ],
   "source": [
    "mystring = 'abc_xyz@gmail.com'  \n",
    "#print(re.match('[a-zA-Z]+[_0-9a-zA-Z]*.[_0-9a-zA-Z]*@[a-zA-Z]+.[a-zA-Z]+', mystring))   # very complexity pattern\n",
    "print(re.match('[a-z]+.[a-z]*@[a-z]+.[a-z]+', mystring))   # converted the pattern into simpliest way"
   ]
  },
  {
   "cell_type": "code",
   "execution_count": 36,
   "id": "79e1ab7c",
   "metadata": {},
   "outputs": [
    {
     "name": "stdout",
     "output_type": "stream",
     "text": [
      "['abc_xyz@gmail.com', 'mayank09.parikh@abc.xyz']\n"
     ]
    }
   ],
   "source": [
    "mystring = 'abc_xyz@gmail.com. Please communicate at your convenience. My alternate email id is mayank09.parikh@abc.xyz'\n",
    "#mystring = 'abcxyz@gmail.com'\n",
    "#print(re.findall('[a-zA-Z]+[_0-9a-zA-Z]*[.]?[_0-9a-zA-Z]*@[a-zA-Z]+.[a-zA-Z]+', mystring))\n",
    "print(re.findall('[a-z]+[_0-9a-z]*[.]?[_a-z]*@[a-z]+.[a-z]+', mystring))  "
   ]
  },
  {
   "cell_type": "markdown",
   "id": "f6c22e56",
   "metadata": {},
   "source": [
    "## **\\\t--  Signals a special sequence (can also be used to escape special characters)**"
   ]
  },
  {
   "cell_type": "code",
   "execution_count": 51,
   "id": "c3eb03f6",
   "metadata": {},
   "outputs": [
    {
     "name": "stdout",
     "output_type": "stream",
     "text": [
      "['n', 'p', 'a', 'i', 'n', 'm', 'l', 'e', 'a', 'n', 'i', 'n', 'g', 'p', 'a', 'n', 'i', 'h', 'n', 'd', 'e', 'a', 'p', 'e', 'c', 'i', 'a', 'l', 'a', 'i', 'n', 'e', 'o', 'p', 'e', 'a', 'k', 'p', 'o', 'n', 'a', 'n', 'e', 'o', 'l']\n"
     ]
    }
   ],
   "source": [
    "text = \"In spain Im learning spanish under a special trainer to speak spontaneosly\"\n",
    "\n",
    "#Find all lower case characters alphabetically between \"a\" and \"p\":\n",
    "\n",
    "x = re.findall(\"[a-p]\",text)\n",
    "print(x)    "
   ]
  },
  {
   "cell_type": "code",
   "execution_count": 46,
   "id": "2017be9c",
   "metadata": {},
   "outputs": [
    {
     "data": {
      "text/plain": [
       "45"
      ]
     },
     "execution_count": 46,
     "metadata": {},
     "output_type": "execute_result"
    }
   ],
   "source": [
    "len(x)"
   ]
  },
  {
   "cell_type": "code",
   "execution_count": 54,
   "id": "d5a08d95",
   "metadata": {},
   "outputs": [
    {
     "name": "stdout",
     "output_type": "stream",
     "text": [
      "['5', '9']\n"
     ]
    }
   ],
   "source": [
    "text = \"that will be 59 dollar\"\n",
    "x = re.findall(\"\\d\",text)\n",
    "print(x)"
   ]
  },
  {
   "cell_type": "markdown",
   "id": "7e82d5f4",
   "metadata": {},
   "source": [
    "**. --\tAny character (except newline character)**"
   ]
  },
  {
   "cell_type": "code",
   "execution_count": 73,
   "id": "96ce182a",
   "metadata": {},
   "outputs": [
    {
     "name": "stdout",
     "output_type": "stream",
     "text": [
      "['Hello world']\n"
     ]
    }
   ],
   "source": [
    "text = \"Hello world\"\n",
    "\n",
    "#Search for a sequence that starts with \"he\", followed by two (any) characters, and an \"o\":\n",
    "\n",
    "x = re.findall(\"He..o .o.ld\",text)\n",
    "print(x)"
   ]
  },
  {
   "cell_type": "markdown",
   "id": "033d62af",
   "metadata": {},
   "source": [
    "**^\t-- Starts with**"
   ]
  },
  {
   "cell_type": "code",
   "execution_count": 80,
   "id": "c8221634",
   "metadata": {},
   "outputs": [
    {
     "name": "stdout",
     "output_type": "stream",
     "text": [
      "yes, the string starts with hello\n"
     ]
    }
   ],
   "source": [
    "txt = 'hello world'\n",
    "\n",
    "# check if the string starts with hello:\n",
    "\n",
    "x = re.findall(\"^hello\",txt)\n",
    "if x:\n",
    "    print(\"yes, the string starts with hello\")\n",
    "else:\n",
    "    print(\"No Match\")"
   ]
  },
  {
   "cell_type": "markdown",
   "id": "da6d7caf",
   "metadata": {},
   "source": [
    "**$\t-- Ends with**"
   ]
  },
  {
   "cell_type": "code",
   "execution_count": 99,
   "id": "6c33a67a",
   "metadata": {},
   "outputs": [
    {
     "name": "stdout",
     "output_type": "stream",
     "text": [
      "yes,the string ends with home\n"
     ]
    }
   ],
   "source": [
    "txt = \"beautiful home\"\n",
    "\n",
    "#Check if the string ends with 'home':\n",
    "\n",
    "x = re.findall(\"home*$\",txt)\n",
    "if x:\n",
    "    print('yes,the string ends with home')\n",
    "else:\n",
    "    print(\"No Match\")"
   ]
  },
  {
   "cell_type": "markdown",
   "id": "71d67e2c",
   "metadata": {},
   "source": [
    "**{} --\tExactly the specified number of occurrences**"
   ]
  },
  {
   "cell_type": "code",
   "execution_count": 107,
   "id": "fe89adda",
   "metadata": {},
   "outputs": [
    {
     "name": "stdout",
     "output_type": "stream",
     "text": [
      "['all']\n",
      "yes, there is at least one match\n"
     ]
    }
   ],
   "source": [
    "txt = \"The rain in Spain falls mainly in the plain!\"\n",
    "\n",
    "#Check if the string contains \"a\" followed by exactly two \"l\" characters:\n",
    "\n",
    "x = re.findall(\"al{2}\",txt)\n",
    "print(x)\n",
    "\n",
    "if x:\n",
    "    print(\"yes, there is at least one match\")\n",
    "else:\n",
    "    print(\"No Match\")"
   ]
  },
  {
   "cell_type": "code",
   "execution_count": 117,
   "id": "d5ab6164",
   "metadata": {},
   "outputs": [
    {
     "name": "stdout",
     "output_type": "stream",
     "text": [
      "['all']\n",
      "yes, there is at least one match\n"
     ]
    }
   ],
   "source": [
    "text = \"snow falling down slightly in a motion\"\n",
    "\n",
    "x = re.findall(\"al{2}\",txt)\n",
    "print(x)\n",
    "\n",
    "if x:\n",
    "    print(\"yes, there is at least one match\")\n",
    "else:\n",
    "    print(\"No Match\")"
   ]
  },
  {
   "cell_type": "markdown",
   "id": "39c4af1a",
   "metadata": {},
   "source": [
    "**|\t-- Either or**"
   ]
  },
  {
   "cell_type": "code",
   "execution_count": 120,
   "id": "ad3a1706",
   "metadata": {},
   "outputs": [
    {
     "name": "stdout",
     "output_type": "stream",
     "text": [
      "['rain', 'falls']\n",
      "yes, there is atleast one match\n"
     ]
    }
   ],
   "source": [
    "txt = \"The rain in Spain falls mainly in the plain!\"\n",
    "\n",
    "#Check if the string contains either \"falls\" or \"stays\":\n",
    "\n",
    "x = re.findall(\"falls|rain\",txt)\n",
    "print(x)\n",
    "if x:\n",
    "    print(\"yes, there is atleast one match\")\n",
    "else:\n",
    "    print(\"No Match\")"
   ]
  },
  {
   "cell_type": "code",
   "execution_count": 124,
   "id": "f4a21b04",
   "metadata": {},
   "outputs": [
    {
     "name": "stdout",
     "output_type": "stream",
     "text": [
      "['fa']\n",
      "yes, there is atleast one match\n"
     ]
    }
   ],
   "source": [
    "txt = \"The rain in Spain falls mainly in the plain!\"\n",
    "\n",
    "#Check if the string contains either \"falls\" or \"stays\":\n",
    "\n",
    "x = re.findall(\"fa|rains\",txt)\n",
    "print(x)\n",
    "if x:\n",
    "    print(\"yes, there is atleast one match\")\n",
    "else:\n",
    "    print(\"No Match\")"
   ]
  },
  {
   "cell_type": "markdown",
   "id": "bb181b3d",
   "metadata": {},
   "source": [
    "**\\*\t-- Zero or more occurrences**"
   ]
  },
  {
   "cell_type": "code",
   "execution_count": 130,
   "id": "d5f335d9",
   "metadata": {},
   "outputs": [
    {
     "name": "stdout",
     "output_type": "stream",
     "text": [
      "['ai', 'ai', 'a', 'ai', 'ai']\n",
      "yes, there is atlest one match\n"
     ]
    }
   ],
   "source": [
    "txt = \"The rain in Spain falls mainly in the plain!\"\n",
    "\n",
    "#Check if the string contains \"ai\" followed by 0 or more \"x\" characters\n",
    "\n",
    "x = re.findall(\"ai*\",txt)     # it prints including starting number like ai means match with a,ai,ai,a,ai....\n",
    "print(x)\n",
    "if x:\n",
    "    print(\"yes, there is atlest one match\")\n",
    "else:\n",
    "    print(\"No Match\")"
   ]
  },
  {
   "cell_type": "markdown",
   "id": "6b9e67d4",
   "metadata": {},
   "source": [
    "**+\t-- One or more occurrences**"
   ]
  },
  {
   "cell_type": "code",
   "execution_count": 134,
   "id": "919097b4",
   "metadata": {},
   "outputs": [
    {
     "name": "stdout",
     "output_type": "stream",
     "text": [
      "['ai', 'ai', 'ai', 'ai']\n",
      "yes, there is atleast one match\n"
     ]
    }
   ],
   "source": [
    "txt = \"The rain in Spain falls mainly in the plain!\"\n",
    "\n",
    "#Check if the string contains \"ai\" followed by 1 or more \"x\" characters:\n",
    "\n",
    "x = re.findall(\"ai+\",txt)           # it prints ai itself\n",
    "print(x)\n",
    "if x:\n",
    "    print(\"yes, there is atleast one match\")\n",
    "else:\n",
    "    print(\"No Match\")"
   ]
  },
  {
   "cell_type": "code",
   "execution_count": 135,
   "id": "ccc6556e",
   "metadata": {},
   "outputs": [
    {
     "name": "stdout",
     "output_type": "stream",
     "text": [
      "['line1 content', ' line2 content', ' line3 content']\n",
      "['line1 content', ' line2 content', ' line3 content']\n"
     ]
    }
   ],
   "source": [
    "mystr1 = \"line1 content. line2 content. line3 content\"\n",
    "mystr2 = \"line1 line2 line3\"\n",
    "print(re.split(\"\\.\",mystr1))\n",
    "print(re.split(\"\\.\",mystr1))"
   ]
  },
  {
   "cell_type": "code",
   "execution_count": 136,
   "id": "1d6f08f7",
   "metadata": {},
   "outputs": [
    {
     "name": "stdout",
     "output_type": "stream",
     "text": [
      "['She', 'sells.', 'sea', 'shells.', 'on', 'the.', 'sea', 'shore']\n"
     ]
    }
   ],
   "source": [
    "string=\"She sells. sea shells. on the. sea shore\"\n",
    "print(re.split(\" \",string))"
   ]
  }
 ],
 "metadata": {
  "kernelspec": {
   "display_name": "Python 3 (ipykernel)",
   "language": "python",
   "name": "python3"
  },
  "language_info": {
   "codemirror_mode": {
    "name": "ipython",
    "version": 3
   },
   "file_extension": ".py",
   "mimetype": "text/x-python",
   "name": "python",
   "nbconvert_exporter": "python",
   "pygments_lexer": "ipython3",
   "version": "3.9.12"
  }
 },
 "nbformat": 4,
 "nbformat_minor": 5
}
