{
 "cells": [
  {
   "cell_type": "markdown",
   "id": "de783575",
   "metadata": {},
   "source": [
    "# Word Representations and Text/Document similarity (count Based)"
   ]
  },
  {
   "cell_type": "markdown",
   "id": "3d93da3e",
   "metadata": {},
   "source": [
    "## Bag of Words"
   ]
  },
  {
   "cell_type": "code",
   "execution_count": 39,
   "id": "b0e1255d",
   "metadata": {},
   "outputs": [],
   "source": [
    "import pandas as pd\n",
    "import numpy as np\n",
    "import nltk\n",
    "from nltk import word_tokenize"
   ]
  },
  {
   "cell_type": "code",
   "execution_count": 40,
   "id": "8fb5e654",
   "metadata": {},
   "outputs": [
    {
     "name": "stderr",
     "output_type": "stream",
     "text": [
      "[nltk_data] Downloading package punkt to C:\\Users\\Shivani\n",
      "[nltk_data]     Dussa\\AppData\\Roaming\\nltk_data...\n",
      "[nltk_data]   Package punkt is already up-to-date!\n"
     ]
    }
   ],
   "source": [
    "nltk.download('punkt');"
   ]
  },
  {
   "cell_type": "code",
   "execution_count": 41,
   "id": "889494b2",
   "metadata": {},
   "outputs": [],
   "source": [
    "review_1 = 'The movie was good and we really like it'\n",
    "review_2 = 'the movie was good but the ending was boring'\n",
    "review_3 = 'We did not like the movie as it was too lenghty'"
   ]
  },
  {
   "cell_type": "code",
   "execution_count": 42,
   "id": "5779cb17",
   "metadata": {},
   "outputs": [],
   "source": [
    "review_1_tokens = word_tokenize(review_1)\n",
    "review_2_tokens = word_tokenize(review_2)\n",
    "review_3_tokens = word_tokenize(review_3)"
   ]
  },
  {
   "cell_type": "code",
   "execution_count": 43,
   "id": "2525427b",
   "metadata": {},
   "outputs": [
    {
     "data": {
      "text/plain": [
       "['The', 'movie', 'was', 'good', 'and', 'we', 'really', 'like', 'it']"
      ]
     },
     "execution_count": 43,
     "metadata": {},
     "output_type": "execute_result"
    }
   ],
   "source": [
    "review_1_tokens"
   ]
  },
  {
   "cell_type": "code",
   "execution_count": 44,
   "id": "a0e4b40f",
   "metadata": {},
   "outputs": [
    {
     "data": {
      "text/plain": [
       "['the', 'movie', 'was', 'good', 'but', 'the', 'ending', 'was', 'boring']"
      ]
     },
     "execution_count": 44,
     "metadata": {},
     "output_type": "execute_result"
    }
   ],
   "source": [
    "review_2_tokens"
   ]
  },
  {
   "cell_type": "code",
   "execution_count": 45,
   "id": "dfc85f4c",
   "metadata": {
    "collapsed": true
   },
   "outputs": [
    {
     "data": {
      "text/plain": [
       "['We',\n",
       " 'did',\n",
       " 'not',\n",
       " 'like',\n",
       " 'the',\n",
       " 'movie',\n",
       " 'as',\n",
       " 'it',\n",
       " 'was',\n",
       " 'too',\n",
       " 'lenghty']"
      ]
     },
     "execution_count": 45,
     "metadata": {},
     "output_type": "execute_result"
    }
   ],
   "source": [
    "review_3_tokens"
   ]
  },
  {
   "cell_type": "code",
   "execution_count": 46,
   "id": "c26e0c20",
   "metadata": {},
   "outputs": [
    {
     "name": "stdout",
     "output_type": "stream",
     "text": [
      "{'was', 'movie', 'boring', 'good', 'the', 'but', 'ending'}\n"
     ]
    }
   ],
   "source": [
    "#print(review_2_tokens)\n",
    "print(set(review_2_tokens))"
   ]
  },
  {
   "cell_type": "code",
   "execution_count": 47,
   "id": "007f9608",
   "metadata": {},
   "outputs": [
    {
     "name": "stdout",
     "output_type": "stream",
     "text": [
      "{'was', 'movie', 'it', 'like', 'The', 'and', 'really', 'good', 'we'}\n"
     ]
    }
   ],
   "source": [
    "print(set(review_1_tokens))"
   ]
  },
  {
   "cell_type": "code",
   "execution_count": 48,
   "id": "cf368363",
   "metadata": {},
   "outputs": [
    {
     "name": "stdout",
     "output_type": "stream",
     "text": [
      "19\n",
      "{'was', 'movie', 'boring', 'like', 'did', 'We', 'The', 'and', 'really', 'it', 'too', 'not', 'as', 'good', 'the', 'we', 'but', 'lenghty', 'ending'}\n"
     ]
    }
   ],
   "source": [
    "review_tokens = set(review_1_tokens).union(set(review_2_tokens)).union(set(review_3_tokens))\n",
    "print(len(review_tokens))\n",
    "print(review_tokens)"
   ]
  },
  {
   "cell_type": "code",
   "execution_count": 49,
   "id": "99e9852a",
   "metadata": {},
   "outputs": [
    {
     "name": "stdout",
     "output_type": "stream",
     "text": [
      "{'was': 0, 'movie': 0, 'boring': 0, 'like': 0, 'did': 0, 'We': 0, 'The': 0, 'and': 0, 'really': 0, 'it': 0, 'too': 0, 'not': 0, 'as': 0, 'good': 0, 'the': 0, 'we': 0, 'but': 0, 'lenghty': 0, 'ending': 0}\n",
      "{'was': 0, 'movie': 0, 'boring': 0, 'like': 0, 'did': 0, 'We': 0, 'The': 0, 'and': 0, 'really': 0, 'it': 0, 'too': 0, 'not': 0, 'as': 0, 'good': 0, 'the': 0, 'we': 0, 'but': 0, 'lenghty': 0, 'ending': 0}\n",
      "{'was': 0, 'movie': 0, 'boring': 0, 'like': 0, 'did': 0, 'We': 0, 'The': 0, 'and': 0, 'really': 0, 'it': 0, 'too': 0, 'not': 0, 'as': 0, 'good': 0, 'the': 0, 'we': 0, 'but': 0, 'lenghty': 0, 'ending': 0}\n"
     ]
    }
   ],
   "source": [
    "review1_dict = dict.fromkeys(review_tokens,0)\n",
    "review2_dict = dict.fromkeys(review_tokens,0)\n",
    "review3_dict = dict.fromkeys(review_tokens,0)\n",
    "print(review1_dict)\n",
    "print(review2_dict)\n",
    "print(review3_dict)"
   ]
  },
  {
   "cell_type": "code",
   "execution_count": 50,
   "id": "02448501",
   "metadata": {},
   "outputs": [],
   "source": [
    "for token in review_1_tokens:\n",
    "    review1_dict[token]+=1\n",
    "for token in review_2_tokens:\n",
    "    review2_dict[token]+=1\n",
    "for token in review_3_tokens:\n",
    "    review3_dict[token]+=1"
   ]
  },
  {
   "cell_type": "code",
   "execution_count": 51,
   "id": "fb479a25",
   "metadata": {},
   "outputs": [
    {
     "name": "stdout",
     "output_type": "stream",
     "text": [
      "{'was': 1, 'movie': 1, 'boring': 0, 'like': 1, 'did': 0, 'We': 0, 'The': 1, 'and': 1, 'really': 1, 'it': 1, 'too': 0, 'not': 0, 'as': 0, 'good': 1, 'the': 0, 'we': 1, 'but': 0, 'lenghty': 0, 'ending': 0}\n",
      "{'was': 2, 'movie': 1, 'boring': 1, 'like': 0, 'did': 0, 'We': 0, 'The': 0, 'and': 0, 'really': 0, 'it': 0, 'too': 0, 'not': 0, 'as': 0, 'good': 1, 'the': 2, 'we': 0, 'but': 1, 'lenghty': 0, 'ending': 1}\n",
      "{'was': 1, 'movie': 1, 'boring': 0, 'like': 1, 'did': 1, 'We': 1, 'The': 0, 'and': 0, 'really': 0, 'it': 1, 'too': 1, 'not': 1, 'as': 1, 'good': 0, 'the': 1, 'we': 0, 'but': 0, 'lenghty': 1, 'ending': 0}\n"
     ]
    }
   ],
   "source": [
    "print(review1_dict)\n",
    "print(review2_dict)\n",
    "print(review3_dict)"
   ]
  },
  {
   "cell_type": "code",
   "execution_count": 52,
   "id": "49414a08",
   "metadata": {},
   "outputs": [
    {
     "data": {
      "text/html": [
       "<div>\n",
       "<style scoped>\n",
       "    .dataframe tbody tr th:only-of-type {\n",
       "        vertical-align: middle;\n",
       "    }\n",
       "\n",
       "    .dataframe tbody tr th {\n",
       "        vertical-align: top;\n",
       "    }\n",
       "\n",
       "    .dataframe thead th {\n",
       "        text-align: right;\n",
       "    }\n",
       "</style>\n",
       "<table border=\"1\" class=\"dataframe\">\n",
       "  <thead>\n",
       "    <tr style=\"text-align: right;\">\n",
       "      <th></th>\n",
       "      <th>was</th>\n",
       "      <th>movie</th>\n",
       "      <th>boring</th>\n",
       "      <th>like</th>\n",
       "      <th>did</th>\n",
       "      <th>We</th>\n",
       "      <th>The</th>\n",
       "      <th>and</th>\n",
       "      <th>really</th>\n",
       "      <th>it</th>\n",
       "      <th>too</th>\n",
       "      <th>not</th>\n",
       "      <th>as</th>\n",
       "      <th>good</th>\n",
       "      <th>the</th>\n",
       "      <th>we</th>\n",
       "      <th>but</th>\n",
       "      <th>lenghty</th>\n",
       "      <th>ending</th>\n",
       "    </tr>\n",
       "  </thead>\n",
       "  <tbody>\n",
       "    <tr>\n",
       "      <th>0</th>\n",
       "      <td>1</td>\n",
       "      <td>1</td>\n",
       "      <td>0</td>\n",
       "      <td>1</td>\n",
       "      <td>0</td>\n",
       "      <td>0</td>\n",
       "      <td>1</td>\n",
       "      <td>1</td>\n",
       "      <td>1</td>\n",
       "      <td>1</td>\n",
       "      <td>0</td>\n",
       "      <td>0</td>\n",
       "      <td>0</td>\n",
       "      <td>1</td>\n",
       "      <td>0</td>\n",
       "      <td>1</td>\n",
       "      <td>0</td>\n",
       "      <td>0</td>\n",
       "      <td>0</td>\n",
       "    </tr>\n",
       "    <tr>\n",
       "      <th>1</th>\n",
       "      <td>2</td>\n",
       "      <td>1</td>\n",
       "      <td>1</td>\n",
       "      <td>0</td>\n",
       "      <td>0</td>\n",
       "      <td>0</td>\n",
       "      <td>0</td>\n",
       "      <td>0</td>\n",
       "      <td>0</td>\n",
       "      <td>0</td>\n",
       "      <td>0</td>\n",
       "      <td>0</td>\n",
       "      <td>0</td>\n",
       "      <td>1</td>\n",
       "      <td>2</td>\n",
       "      <td>0</td>\n",
       "      <td>1</td>\n",
       "      <td>0</td>\n",
       "      <td>1</td>\n",
       "    </tr>\n",
       "    <tr>\n",
       "      <th>2</th>\n",
       "      <td>1</td>\n",
       "      <td>1</td>\n",
       "      <td>0</td>\n",
       "      <td>1</td>\n",
       "      <td>1</td>\n",
       "      <td>1</td>\n",
       "      <td>0</td>\n",
       "      <td>0</td>\n",
       "      <td>0</td>\n",
       "      <td>1</td>\n",
       "      <td>1</td>\n",
       "      <td>1</td>\n",
       "      <td>1</td>\n",
       "      <td>0</td>\n",
       "      <td>1</td>\n",
       "      <td>0</td>\n",
       "      <td>0</td>\n",
       "      <td>1</td>\n",
       "      <td>0</td>\n",
       "    </tr>\n",
       "  </tbody>\n",
       "</table>\n",
       "</div>"
      ],
      "text/plain": [
       "   was  movie  boring  like  did  We  The  and  really  it  too  not  as  \\\n",
       "0    1      1       0     1    0   0    1    1       1   1    0    0   0   \n",
       "1    2      1       1     0    0   0    0    0       0   0    0    0   0   \n",
       "2    1      1       0     1    1   1    0    0       0   1    1    1   1   \n",
       "\n",
       "   good  the  we  but  lenghty  ending  \n",
       "0     1    0   1    0        0       0  \n",
       "1     1    2   0    1        0       1  \n",
       "2     0    1   0    0        1       0  "
      ]
     },
     "execution_count": 52,
     "metadata": {},
     "output_type": "execute_result"
    }
   ],
   "source": [
    "df_reviews_dict = pd.DataFrame([review1_dict,review2_dict,review3_dict]) \n",
    "df_reviews_dict"
   ]
  },
  {
   "cell_type": "markdown",
   "id": "73921987",
   "metadata": {},
   "source": [
    "**This is the Term Frequency Matrix(TFM) or Document Term Matrix(DTM)**"
   ]
  },
  {
   "cell_type": "markdown",
   "id": "d79ad91b",
   "metadata": {},
   "source": [
    "## Count Vectorizer \n",
    "- sklearn implementation of TFM creation using Bag of Words"
   ]
  },
  {
   "cell_type": "code",
   "execution_count": 53,
   "id": "baf5bac8",
   "metadata": {},
   "outputs": [],
   "source": [
    "from sklearn.feature_extraction.text import CountVectorizer"
   ]
  },
  {
   "cell_type": "code",
   "execution_count": 54,
   "id": "f1c7596b",
   "metadata": {},
   "outputs": [
    {
     "data": {
      "text/plain": [
       "['The movie was good and we really like it',\n",
       " 'the movie was good but the ending was boring',\n",
       " 'We did not like the movie as it was too lenghty']"
      ]
     },
     "execution_count": 54,
     "metadata": {},
     "output_type": "execute_result"
    }
   ],
   "source": [
    "review_list = [review_1,review_2,review_3]\n",
    "review_list"
   ]
  },
  {
   "cell_type": "code",
   "execution_count": 55,
   "id": "bafe982d",
   "metadata": {},
   "outputs": [
    {
     "name": "stderr",
     "output_type": "stream",
     "text": [
      "C:\\Users\\Shivani Dussa\\anaconda3\\lib\\site-packages\\sklearn\\utils\\deprecation.py:87: FutureWarning: Function get_feature_names is deprecated; get_feature_names is deprecated in 1.0 and will be removed in 1.2. Please use get_feature_names_out instead.\n",
      "  warnings.warn(msg, category=FutureWarning)\n"
     ]
    }
   ],
   "source": [
    "count_vector = CountVectorizer(stop_words = 'english')\n",
    "tfm = count_vector.fit_transform(review_list)\n",
    "col_names = count_vector.get_feature_names()"
   ]
  },
  {
   "cell_type": "code",
   "execution_count": 56,
   "id": "92d1c1cb",
   "metadata": {},
   "outputs": [],
   "source": [
    "col_name_out = count_vector.get_feature_names_out()"
   ]
  },
  {
   "cell_type": "code",
   "execution_count": 57,
   "id": "6d5e4a37",
   "metadata": {},
   "outputs": [
    {
     "data": {
      "text/plain": [
       "array(['boring', 'did', 'ending', 'good', 'lenghty', 'like', 'movie',\n",
       "       'really'], dtype=object)"
      ]
     },
     "execution_count": 57,
     "metadata": {},
     "output_type": "execute_result"
    }
   ],
   "source": [
    "col_name_out"
   ]
  },
  {
   "cell_type": "code",
   "execution_count": 58,
   "id": "071f6afb",
   "metadata": {},
   "outputs": [
    {
     "data": {
      "text/plain": [
       "['boring', 'did', 'ending', 'good', 'lenghty', 'like', 'movie', 'really']"
      ]
     },
     "execution_count": 58,
     "metadata": {},
     "output_type": "execute_result"
    }
   ],
   "source": [
    "col_names"
   ]
  },
  {
   "cell_type": "markdown",
   "id": "50691bfb",
   "metadata": {},
   "source": [
    "### CSR means Compressed Sparced Row, which is a row-wise sparse matrix "
   ]
  },
  {
   "cell_type": "code",
   "execution_count": 59,
   "id": "1e14fd34",
   "metadata": {},
   "outputs": [
    {
     "name": "stdout",
     "output_type": "stream",
     "text": [
      "<class 'scipy.sparse.csr.csr_matrix'>\n",
      "[[0 0 0 1 0 1 1 1]\n",
      " [1 0 1 1 0 0 1 0]\n",
      " [0 1 0 0 1 1 1 0]]\n",
      "['boring', 'did', 'ending', 'good', 'lenghty', 'like', 'movie', 'really']\n"
     ]
    }
   ],
   "source": [
    "print(type(tfm))\n",
    "print(tfm.toarray())\n",
    "print(col_names)"
   ]
  },
  {
   "cell_type": "code",
   "execution_count": 60,
   "id": "da8eee44",
   "metadata": {},
   "outputs": [
    {
     "data": {
      "text/html": [
       "<div>\n",
       "<style scoped>\n",
       "    .dataframe tbody tr th:only-of-type {\n",
       "        vertical-align: middle;\n",
       "    }\n",
       "\n",
       "    .dataframe tbody tr th {\n",
       "        vertical-align: top;\n",
       "    }\n",
       "\n",
       "    .dataframe thead th {\n",
       "        text-align: right;\n",
       "    }\n",
       "</style>\n",
       "<table border=\"1\" class=\"dataframe\">\n",
       "  <thead>\n",
       "    <tr style=\"text-align: right;\">\n",
       "      <th></th>\n",
       "      <th>boring</th>\n",
       "      <th>did</th>\n",
       "      <th>ending</th>\n",
       "      <th>good</th>\n",
       "      <th>lenghty</th>\n",
       "      <th>like</th>\n",
       "      <th>movie</th>\n",
       "      <th>really</th>\n",
       "    </tr>\n",
       "  </thead>\n",
       "  <tbody>\n",
       "    <tr>\n",
       "      <th>0</th>\n",
       "      <td>0</td>\n",
       "      <td>0</td>\n",
       "      <td>0</td>\n",
       "      <td>1</td>\n",
       "      <td>0</td>\n",
       "      <td>1</td>\n",
       "      <td>1</td>\n",
       "      <td>1</td>\n",
       "    </tr>\n",
       "    <tr>\n",
       "      <th>1</th>\n",
       "      <td>1</td>\n",
       "      <td>0</td>\n",
       "      <td>1</td>\n",
       "      <td>1</td>\n",
       "      <td>0</td>\n",
       "      <td>0</td>\n",
       "      <td>1</td>\n",
       "      <td>0</td>\n",
       "    </tr>\n",
       "    <tr>\n",
       "      <th>2</th>\n",
       "      <td>0</td>\n",
       "      <td>1</td>\n",
       "      <td>0</td>\n",
       "      <td>0</td>\n",
       "      <td>1</td>\n",
       "      <td>1</td>\n",
       "      <td>1</td>\n",
       "      <td>0</td>\n",
       "    </tr>\n",
       "  </tbody>\n",
       "</table>\n",
       "</div>"
      ],
      "text/plain": [
       "   boring  did  ending  good  lenghty  like  movie  really\n",
       "0       0    0       0     1        0     1      1       1\n",
       "1       1    0       1     1        0     0      1       0\n",
       "2       0    1       0     0        1     1      1       0"
      ]
     },
     "execution_count": 60,
     "metadata": {},
     "output_type": "execute_result"
    }
   ],
   "source": [
    "data = pd.DataFrame(tfm.toarray(),columns = col_names)\n",
    "data                          "
   ]
  },
  {
   "cell_type": "code",
   "execution_count": 24,
   "id": "7f2c8ae3",
   "metadata": {},
   "outputs": [],
   "source": [
    "# this table tells us how many times the word is repeating in 0,1,2\n",
    "# in 0, boring, did,ending,lenthy words are not there so 0 and good,like,movie,really is there for one time so 1\n",
    "#like wise...\n",
    "# how many times the word repeats it takes that number"
   ]
  },
  {
   "cell_type": "code",
   "execution_count": 23,
   "id": "1fd22847",
   "metadata": {},
   "outputs": [
    {
     "data": {
      "text/plain": [
       "['The movie was good and we really like it',\n",
       " 'the movie was good but the ending was boring',\n",
       " 'We did not like the movie as it was too lenghty']"
      ]
     },
     "execution_count": 23,
     "metadata": {},
     "output_type": "execute_result"
    }
   ],
   "source": [
    "review_list"
   ]
  },
  {
   "cell_type": "markdown",
   "id": "35316fa1",
   "metadata": {},
   "source": [
    "## TF-IDF"
   ]
  },
  {
   "cell_type": "code",
   "execution_count": 5,
   "id": "b737eea1",
   "metadata": {},
   "outputs": [],
   "source": [
    "from sklearn.feature_extraction.text import TfidfVectorizer"
   ]
  },
  {
   "cell_type": "code",
   "execution_count": 6,
   "id": "715db0c6",
   "metadata": {},
   "outputs": [],
   "source": [
    "tf_vec = TfidfVectorizer(min_df = 1,lowercase = True,stop_words = 'english')"
   ]
  },
  {
   "cell_type": "code",
   "execution_count": 7,
   "id": "14143e82",
   "metadata": {},
   "outputs": [
    {
     "data": {
      "text/html": [
       "<style>#sk-container-id-1 {color: black;background-color: white;}#sk-container-id-1 pre{padding: 0;}#sk-container-id-1 div.sk-toggleable {background-color: white;}#sk-container-id-1 label.sk-toggleable__label {cursor: pointer;display: block;width: 100%;margin-bottom: 0;padding: 0.3em;box-sizing: border-box;text-align: center;}#sk-container-id-1 label.sk-toggleable__label-arrow:before {content: \"▸\";float: left;margin-right: 0.25em;color: #696969;}#sk-container-id-1 label.sk-toggleable__label-arrow:hover:before {color: black;}#sk-container-id-1 div.sk-estimator:hover label.sk-toggleable__label-arrow:before {color: black;}#sk-container-id-1 div.sk-toggleable__content {max-height: 0;max-width: 0;overflow: hidden;text-align: left;background-color: #f0f8ff;}#sk-container-id-1 div.sk-toggleable__content pre {margin: 0.2em;color: black;border-radius: 0.25em;background-color: #f0f8ff;}#sk-container-id-1 input.sk-toggleable__control:checked~div.sk-toggleable__content {max-height: 200px;max-width: 100%;overflow: auto;}#sk-container-id-1 input.sk-toggleable__control:checked~label.sk-toggleable__label-arrow:before {content: \"▾\";}#sk-container-id-1 div.sk-estimator input.sk-toggleable__control:checked~label.sk-toggleable__label {background-color: #d4ebff;}#sk-container-id-1 div.sk-label input.sk-toggleable__control:checked~label.sk-toggleable__label {background-color: #d4ebff;}#sk-container-id-1 input.sk-hidden--visually {border: 0;clip: rect(1px 1px 1px 1px);clip: rect(1px, 1px, 1px, 1px);height: 1px;margin: -1px;overflow: hidden;padding: 0;position: absolute;width: 1px;}#sk-container-id-1 div.sk-estimator {font-family: monospace;background-color: #f0f8ff;border: 1px dotted black;border-radius: 0.25em;box-sizing: border-box;margin-bottom: 0.5em;}#sk-container-id-1 div.sk-estimator:hover {background-color: #d4ebff;}#sk-container-id-1 div.sk-parallel-item::after {content: \"\";width: 100%;border-bottom: 1px solid gray;flex-grow: 1;}#sk-container-id-1 div.sk-label:hover label.sk-toggleable__label {background-color: #d4ebff;}#sk-container-id-1 div.sk-serial::before {content: \"\";position: absolute;border-left: 1px solid gray;box-sizing: border-box;top: 0;bottom: 0;left: 50%;z-index: 0;}#sk-container-id-1 div.sk-serial {display: flex;flex-direction: column;align-items: center;background-color: white;padding-right: 0.2em;padding-left: 0.2em;position: relative;}#sk-container-id-1 div.sk-item {position: relative;z-index: 1;}#sk-container-id-1 div.sk-parallel {display: flex;align-items: stretch;justify-content: center;background-color: white;position: relative;}#sk-container-id-1 div.sk-item::before, #sk-container-id-1 div.sk-parallel-item::before {content: \"\";position: absolute;border-left: 1px solid gray;box-sizing: border-box;top: 0;bottom: 0;left: 50%;z-index: -1;}#sk-container-id-1 div.sk-parallel-item {display: flex;flex-direction: column;z-index: 1;position: relative;background-color: white;}#sk-container-id-1 div.sk-parallel-item:first-child::after {align-self: flex-end;width: 50%;}#sk-container-id-1 div.sk-parallel-item:last-child::after {align-self: flex-start;width: 50%;}#sk-container-id-1 div.sk-parallel-item:only-child::after {width: 0;}#sk-container-id-1 div.sk-dashed-wrapped {border: 1px dashed gray;margin: 0 0.4em 0.5em 0.4em;box-sizing: border-box;padding-bottom: 0.4em;background-color: white;}#sk-container-id-1 div.sk-label label {font-family: monospace;font-weight: bold;display: inline-block;line-height: 1.2em;}#sk-container-id-1 div.sk-label-container {text-align: center;}#sk-container-id-1 div.sk-container {/* jupyter's `normalize.less` sets `[hidden] { display: none; }` but bootstrap.min.css set `[hidden] { display: none !important; }` so we also need the `!important` here to be able to override the default hidden behavior on the sphinx rendered scikit-learn.org. See: https://github.com/scikit-learn/scikit-learn/issues/21755 */display: inline-block !important;position: relative;}#sk-container-id-1 div.sk-text-repr-fallback {display: none;}</style><div id=\"sk-container-id-1\" class=\"sk-top-container\"><div class=\"sk-text-repr-fallback\"><pre>TfidfVectorizer(stop_words=&#x27;english&#x27;)</pre><b>In a Jupyter environment, please rerun this cell to show the HTML representation or trust the notebook. <br />On GitHub, the HTML representation is unable to render, please try loading this page with nbviewer.org.</b></div><div class=\"sk-container\" hidden><div class=\"sk-item\"><div class=\"sk-estimator sk-toggleable\"><input class=\"sk-toggleable__control sk-hidden--visually\" id=\"sk-estimator-id-1\" type=\"checkbox\" checked><label for=\"sk-estimator-id-1\" class=\"sk-toggleable__label sk-toggleable__label-arrow\">TfidfVectorizer</label><div class=\"sk-toggleable__content\"><pre>TfidfVectorizer(stop_words=&#x27;english&#x27;)</pre></div></div></div></div></div>"
      ],
      "text/plain": [
       "TfidfVectorizer(stop_words='english')"
      ]
     },
     "execution_count": 7,
     "metadata": {},
     "output_type": "execute_result"
    }
   ],
   "source": [
    "tf_vec"
   ]
  },
  {
   "cell_type": "code",
   "execution_count": 22,
   "id": "0428a9fc",
   "metadata": {},
   "outputs": [
    {
     "data": {
      "text/plain": [
       "['The movie was good and we really like it',\n",
       " 'the movie was good but the ending was boring',\n",
       " 'We did not like the movie as it was too lenghty']"
      ]
     },
     "execution_count": 22,
     "metadata": {},
     "output_type": "execute_result"
    }
   ],
   "source": [
    "review_list"
   ]
  },
  {
   "cell_type": "code",
   "execution_count": 25,
   "id": "471f2499",
   "metadata": {},
   "outputs": [
    {
     "name": "stdout",
     "output_type": "stream",
     "text": [
      "<class 'scipy.sparse.csr.csr_matrix'>\n",
      "(3, 8)\n"
     ]
    },
    {
     "name": "stderr",
     "output_type": "stream",
     "text": [
      "C:\\Users\\Shivani Dussa\\anaconda3\\lib\\site-packages\\sklearn\\utils\\deprecation.py:87: FutureWarning: Function get_feature_names is deprecated; get_feature_names is deprecated in 1.0 and will be removed in 1.2. Please use get_feature_names_out instead.\n",
      "  warnings.warn(msg, category=FutureWarning)\n"
     ]
    }
   ],
   "source": [
    "tf_matrix = tf_vec.fit_transform(review_list)\n",
    "tf_names = tf_vec.get_feature_names()\n",
    "print(type(tf_matrix))\n",
    "print(tf_matrix.shape)"
   ]
  },
  {
   "cell_type": "code",
   "execution_count": 29,
   "id": "20b9c494",
   "metadata": {},
   "outputs": [
    {
     "name": "stdout",
     "output_type": "stream",
     "text": [
      "['boring', 'did', 'ending', 'good', 'lenghty', 'like', 'movie', 'really']\n",
      "[[0.         0.         0.         0.4804584  0.         0.4804584\n",
      "  0.37311881 0.63174505]\n",
      " [0.5844829  0.         0.5844829  0.44451431 0.         0.\n",
      "  0.34520502 0.        ]\n",
      " [0.         0.5844829  0.         0.         0.5844829  0.44451431\n",
      "  0.34520502 0.        ]]\n"
     ]
    }
   ],
   "source": [
    "print(tf_names)\n",
    "print(tf_matrix.toarray())       #check the 'data' in bag of words  same liekwise                                # "
   ]
  },
  {
   "cell_type": "code",
   "execution_count": 27,
   "id": "46b21c81",
   "metadata": {},
   "outputs": [
    {
     "data": {
      "text/plain": [
       "<3x8 sparse matrix of type '<class 'numpy.float64'>'\n",
       "\twith 12 stored elements in Compressed Sparse Row format>"
      ]
     },
     "execution_count": 27,
     "metadata": {},
     "output_type": "execute_result"
    }
   ],
   "source": [
    "tf_matrix      "
   ]
  },
  {
   "cell_type": "code",
   "execution_count": 30,
   "id": "129e78b6",
   "metadata": {},
   "outputs": [],
   "source": [
    "tf_df = pd.DataFrame(tf_matrix.toarray(),columns = tf_names)"
   ]
  },
  {
   "cell_type": "code",
   "execution_count": 31,
   "id": "a3179071",
   "metadata": {},
   "outputs": [
    {
     "data": {
      "text/html": [
       "<div>\n",
       "<style scoped>\n",
       "    .dataframe tbody tr th:only-of-type {\n",
       "        vertical-align: middle;\n",
       "    }\n",
       "\n",
       "    .dataframe tbody tr th {\n",
       "        vertical-align: top;\n",
       "    }\n",
       "\n",
       "    .dataframe thead th {\n",
       "        text-align: right;\n",
       "    }\n",
       "</style>\n",
       "<table border=\"1\" class=\"dataframe\">\n",
       "  <thead>\n",
       "    <tr style=\"text-align: right;\">\n",
       "      <th></th>\n",
       "      <th>boring</th>\n",
       "      <th>did</th>\n",
       "      <th>ending</th>\n",
       "      <th>good</th>\n",
       "      <th>lenghty</th>\n",
       "      <th>like</th>\n",
       "      <th>movie</th>\n",
       "      <th>really</th>\n",
       "    </tr>\n",
       "  </thead>\n",
       "  <tbody>\n",
       "    <tr>\n",
       "      <th>0</th>\n",
       "      <td>0.000000</td>\n",
       "      <td>0.000000</td>\n",
       "      <td>0.000000</td>\n",
       "      <td>0.480458</td>\n",
       "      <td>0.000000</td>\n",
       "      <td>0.480458</td>\n",
       "      <td>0.373119</td>\n",
       "      <td>0.631745</td>\n",
       "    </tr>\n",
       "    <tr>\n",
       "      <th>1</th>\n",
       "      <td>0.584483</td>\n",
       "      <td>0.000000</td>\n",
       "      <td>0.584483</td>\n",
       "      <td>0.444514</td>\n",
       "      <td>0.000000</td>\n",
       "      <td>0.000000</td>\n",
       "      <td>0.345205</td>\n",
       "      <td>0.000000</td>\n",
       "    </tr>\n",
       "    <tr>\n",
       "      <th>2</th>\n",
       "      <td>0.000000</td>\n",
       "      <td>0.584483</td>\n",
       "      <td>0.000000</td>\n",
       "      <td>0.000000</td>\n",
       "      <td>0.584483</td>\n",
       "      <td>0.444514</td>\n",
       "      <td>0.345205</td>\n",
       "      <td>0.000000</td>\n",
       "    </tr>\n",
       "  </tbody>\n",
       "</table>\n",
       "</div>"
      ],
      "text/plain": [
       "     boring       did    ending      good   lenghty      like     movie  \\\n",
       "0  0.000000  0.000000  0.000000  0.480458  0.000000  0.480458  0.373119   \n",
       "1  0.584483  0.000000  0.584483  0.444514  0.000000  0.000000  0.345205   \n",
       "2  0.000000  0.584483  0.000000  0.000000  0.584483  0.444514  0.345205   \n",
       "\n",
       "     really  \n",
       "0  0.631745  \n",
       "1  0.000000  \n",
       "2  0.000000  "
      ]
     },
     "execution_count": 31,
     "metadata": {},
     "output_type": "execute_result"
    }
   ],
   "source": [
    "tf_df      "
   ]
  },
  {
   "cell_type": "code",
   "execution_count": 32,
   "id": "859c1950",
   "metadata": {},
   "outputs": [],
   "source": [
    "# in index 0,in review1, boring,did,ending,lenthy are not there so 0 and good,like,movie,really are there so 1\n",
    "# Like wise"
   ]
  },
  {
   "cell_type": "code",
   "execution_count": 61,
   "id": "17111518",
   "metadata": {},
   "outputs": [
    {
     "data": {
      "text/html": [
       "<div>\n",
       "<style scoped>\n",
       "    .dataframe tbody tr th:only-of-type {\n",
       "        vertical-align: middle;\n",
       "    }\n",
       "\n",
       "    .dataframe tbody tr th {\n",
       "        vertical-align: top;\n",
       "    }\n",
       "\n",
       "    .dataframe thead th {\n",
       "        text-align: right;\n",
       "    }\n",
       "</style>\n",
       "<table border=\"1\" class=\"dataframe\">\n",
       "  <thead>\n",
       "    <tr style=\"text-align: right;\">\n",
       "      <th></th>\n",
       "      <th>boring</th>\n",
       "      <th>did</th>\n",
       "      <th>ending</th>\n",
       "      <th>good</th>\n",
       "      <th>lenghty</th>\n",
       "      <th>like</th>\n",
       "      <th>movie</th>\n",
       "      <th>really</th>\n",
       "    </tr>\n",
       "  </thead>\n",
       "  <tbody>\n",
       "    <tr>\n",
       "      <th>0</th>\n",
       "      <td>0</td>\n",
       "      <td>0</td>\n",
       "      <td>0</td>\n",
       "      <td>1</td>\n",
       "      <td>0</td>\n",
       "      <td>1</td>\n",
       "      <td>1</td>\n",
       "      <td>1</td>\n",
       "    </tr>\n",
       "    <tr>\n",
       "      <th>1</th>\n",
       "      <td>1</td>\n",
       "      <td>0</td>\n",
       "      <td>1</td>\n",
       "      <td>1</td>\n",
       "      <td>0</td>\n",
       "      <td>0</td>\n",
       "      <td>1</td>\n",
       "      <td>0</td>\n",
       "    </tr>\n",
       "    <tr>\n",
       "      <th>2</th>\n",
       "      <td>0</td>\n",
       "      <td>1</td>\n",
       "      <td>0</td>\n",
       "      <td>0</td>\n",
       "      <td>1</td>\n",
       "      <td>1</td>\n",
       "      <td>1</td>\n",
       "      <td>0</td>\n",
       "    </tr>\n",
       "  </tbody>\n",
       "</table>\n",
       "</div>"
      ],
      "text/plain": [
       "   boring  did  ending  good  lenghty  like  movie  really\n",
       "0       0    0       0     1        0     1      1       1\n",
       "1       1    0       1     1        0     0      1       0\n",
       "2       0    1       0     0        1     1      1       0"
      ]
     },
     "execution_count": 61,
     "metadata": {},
     "output_type": "execute_result"
    }
   ],
   "source": [
    "data"
   ]
  },
  {
   "cell_type": "code",
   "execution_count": 62,
   "id": "55ba45c2",
   "metadata": {},
   "outputs": [
    {
     "data": {
      "text/html": [
       "<div>\n",
       "<style scoped>\n",
       "    .dataframe tbody tr th:only-of-type {\n",
       "        vertical-align: middle;\n",
       "    }\n",
       "\n",
       "    .dataframe tbody tr th {\n",
       "        vertical-align: top;\n",
       "    }\n",
       "\n",
       "    .dataframe thead th {\n",
       "        text-align: right;\n",
       "    }\n",
       "</style>\n",
       "<table border=\"1\" class=\"dataframe\">\n",
       "  <thead>\n",
       "    <tr style=\"text-align: right;\">\n",
       "      <th></th>\n",
       "      <th>boring</th>\n",
       "      <th>did</th>\n",
       "      <th>ending</th>\n",
       "      <th>good</th>\n",
       "      <th>lenghty</th>\n",
       "      <th>like</th>\n",
       "      <th>movie</th>\n",
       "      <th>really</th>\n",
       "    </tr>\n",
       "  </thead>\n",
       "  <tbody>\n",
       "    <tr>\n",
       "      <th>0</th>\n",
       "      <td>0.000000</td>\n",
       "      <td>0.000000</td>\n",
       "      <td>0.000000</td>\n",
       "      <td>0.480458</td>\n",
       "      <td>0.000000</td>\n",
       "      <td>0.480458</td>\n",
       "      <td>0.373119</td>\n",
       "      <td>0.631745</td>\n",
       "    </tr>\n",
       "    <tr>\n",
       "      <th>1</th>\n",
       "      <td>0.584483</td>\n",
       "      <td>0.000000</td>\n",
       "      <td>0.584483</td>\n",
       "      <td>0.444514</td>\n",
       "      <td>0.000000</td>\n",
       "      <td>0.000000</td>\n",
       "      <td>0.345205</td>\n",
       "      <td>0.000000</td>\n",
       "    </tr>\n",
       "    <tr>\n",
       "      <th>2</th>\n",
       "      <td>0.000000</td>\n",
       "      <td>0.584483</td>\n",
       "      <td>0.000000</td>\n",
       "      <td>0.000000</td>\n",
       "      <td>0.584483</td>\n",
       "      <td>0.444514</td>\n",
       "      <td>0.345205</td>\n",
       "      <td>0.000000</td>\n",
       "    </tr>\n",
       "  </tbody>\n",
       "</table>\n",
       "</div>"
      ],
      "text/plain": [
       "     boring       did    ending      good   lenghty      like     movie  \\\n",
       "0  0.000000  0.000000  0.000000  0.480458  0.000000  0.480458  0.373119   \n",
       "1  0.584483  0.000000  0.584483  0.444514  0.000000  0.000000  0.345205   \n",
       "2  0.000000  0.584483  0.000000  0.000000  0.584483  0.444514  0.345205   \n",
       "\n",
       "     really  \n",
       "0  0.631745  \n",
       "1  0.000000  \n",
       "2  0.000000  "
      ]
     },
     "execution_count": 62,
     "metadata": {},
     "output_type": "execute_result"
    }
   ],
   "source": [
    "tf_df"
   ]
  },
  {
   "cell_type": "markdown",
   "id": "07655178",
   "metadata": {},
   "source": [
    "## Document similarity estimation"
   ]
  },
  {
   "cell_type": "code",
   "execution_count": 1,
   "id": "a11cc8de",
   "metadata": {},
   "outputs": [],
   "source": [
    "doc0 = 'Natural Language Processing is the study of making a machine understand and generate languages like humans'\n",
    "doc1 = 'Cricket is a sports played with a bat and a ball. It is not played in many countries'\n",
    "doc2 = 'Languages are the cornerstone of human evolution. Making a machine study languages is not easy'\n",
    "doc3 = 'Football is a sport played in almost all countries of the world. It is played by kicking a ball'"
   ]
  },
  {
   "cell_type": "code",
   "execution_count": 9,
   "id": "9dd34d6c",
   "metadata": {},
   "outputs": [],
   "source": [
    "documents = [doc0,doc1,doc2,doc3]"
   ]
  },
  {
   "cell_type": "code",
   "execution_count": 10,
   "id": "c1f9ec8a",
   "metadata": {},
   "outputs": [
    {
     "data": {
      "text/plain": [
       "['Natural Language Processing is the study of making a machine understand and generate languages like humans',\n",
       " 'Cricket is a sports played with a bat and a ball. It is not played in many countries',\n",
       " 'Languages are the cornerstone of human evolution. Making a machine study languages is not easy',\n",
       " 'Football is a sport played in almost all countries of the world. It is played by kicking a ball']"
      ]
     },
     "execution_count": 10,
     "metadata": {},
     "output_type": "execute_result"
    }
   ],
   "source": [
    "documents"
   ]
  },
  {
   "cell_type": "code",
   "execution_count": 17,
   "id": "ef7282bf",
   "metadata": {},
   "outputs": [],
   "source": [
    "import pandas as pd"
   ]
  },
  {
   "cell_type": "code",
   "execution_count": 15,
   "id": "6d9565f5",
   "metadata": {},
   "outputs": [],
   "source": [
    "tf_vect_docs = TfidfVectorizer(min_df = 1,lowercase = True,stop_words = 'english')\n",
    "tf_matrix_docs = tf_vect_docs.fit_transform(documents)"
   ]
  },
  {
   "cell_type": "code",
   "execution_count": 18,
   "id": "9c2f6fd3",
   "metadata": {},
   "outputs": [],
   "source": [
    "tf_colnames = tf_vect_docs.get_feature_names()\n",
    "tf_df = pd.DataFrame(tf_matrix_docs.toarray(),columns = tf_colnames)"
   ]
  },
  {
   "cell_type": "code",
   "execution_count": 19,
   "id": "444d4c0b",
   "metadata": {},
   "outputs": [
    {
     "data": {
      "text/html": [
       "<style>#sk-container-id-2 {color: black;background-color: white;}#sk-container-id-2 pre{padding: 0;}#sk-container-id-2 div.sk-toggleable {background-color: white;}#sk-container-id-2 label.sk-toggleable__label {cursor: pointer;display: block;width: 100%;margin-bottom: 0;padding: 0.3em;box-sizing: border-box;text-align: center;}#sk-container-id-2 label.sk-toggleable__label-arrow:before {content: \"▸\";float: left;margin-right: 0.25em;color: #696969;}#sk-container-id-2 label.sk-toggleable__label-arrow:hover:before {color: black;}#sk-container-id-2 div.sk-estimator:hover label.sk-toggleable__label-arrow:before {color: black;}#sk-container-id-2 div.sk-toggleable__content {max-height: 0;max-width: 0;overflow: hidden;text-align: left;background-color: #f0f8ff;}#sk-container-id-2 div.sk-toggleable__content pre {margin: 0.2em;color: black;border-radius: 0.25em;background-color: #f0f8ff;}#sk-container-id-2 input.sk-toggleable__control:checked~div.sk-toggleable__content {max-height: 200px;max-width: 100%;overflow: auto;}#sk-container-id-2 input.sk-toggleable__control:checked~label.sk-toggleable__label-arrow:before {content: \"▾\";}#sk-container-id-2 div.sk-estimator input.sk-toggleable__control:checked~label.sk-toggleable__label {background-color: #d4ebff;}#sk-container-id-2 div.sk-label input.sk-toggleable__control:checked~label.sk-toggleable__label {background-color: #d4ebff;}#sk-container-id-2 input.sk-hidden--visually {border: 0;clip: rect(1px 1px 1px 1px);clip: rect(1px, 1px, 1px, 1px);height: 1px;margin: -1px;overflow: hidden;padding: 0;position: absolute;width: 1px;}#sk-container-id-2 div.sk-estimator {font-family: monospace;background-color: #f0f8ff;border: 1px dotted black;border-radius: 0.25em;box-sizing: border-box;margin-bottom: 0.5em;}#sk-container-id-2 div.sk-estimator:hover {background-color: #d4ebff;}#sk-container-id-2 div.sk-parallel-item::after {content: \"\";width: 100%;border-bottom: 1px solid gray;flex-grow: 1;}#sk-container-id-2 div.sk-label:hover label.sk-toggleable__label {background-color: #d4ebff;}#sk-container-id-2 div.sk-serial::before {content: \"\";position: absolute;border-left: 1px solid gray;box-sizing: border-box;top: 0;bottom: 0;left: 50%;z-index: 0;}#sk-container-id-2 div.sk-serial {display: flex;flex-direction: column;align-items: center;background-color: white;padding-right: 0.2em;padding-left: 0.2em;position: relative;}#sk-container-id-2 div.sk-item {position: relative;z-index: 1;}#sk-container-id-2 div.sk-parallel {display: flex;align-items: stretch;justify-content: center;background-color: white;position: relative;}#sk-container-id-2 div.sk-item::before, #sk-container-id-2 div.sk-parallel-item::before {content: \"\";position: absolute;border-left: 1px solid gray;box-sizing: border-box;top: 0;bottom: 0;left: 50%;z-index: -1;}#sk-container-id-2 div.sk-parallel-item {display: flex;flex-direction: column;z-index: 1;position: relative;background-color: white;}#sk-container-id-2 div.sk-parallel-item:first-child::after {align-self: flex-end;width: 50%;}#sk-container-id-2 div.sk-parallel-item:last-child::after {align-self: flex-start;width: 50%;}#sk-container-id-2 div.sk-parallel-item:only-child::after {width: 0;}#sk-container-id-2 div.sk-dashed-wrapped {border: 1px dashed gray;margin: 0 0.4em 0.5em 0.4em;box-sizing: border-box;padding-bottom: 0.4em;background-color: white;}#sk-container-id-2 div.sk-label label {font-family: monospace;font-weight: bold;display: inline-block;line-height: 1.2em;}#sk-container-id-2 div.sk-label-container {text-align: center;}#sk-container-id-2 div.sk-container {/* jupyter's `normalize.less` sets `[hidden] { display: none; }` but bootstrap.min.css set `[hidden] { display: none !important; }` so we also need the `!important` here to be able to override the default hidden behavior on the sphinx rendered scikit-learn.org. See: https://github.com/scikit-learn/scikit-learn/issues/21755 */display: inline-block !important;position: relative;}#sk-container-id-2 div.sk-text-repr-fallback {display: none;}</style><div id=\"sk-container-id-2\" class=\"sk-top-container\"><div class=\"sk-text-repr-fallback\"><pre>TfidfVectorizer(stop_words=&#x27;english&#x27;)</pre><b>In a Jupyter environment, please rerun this cell to show the HTML representation or trust the notebook. <br />On GitHub, the HTML representation is unable to render, please try loading this page with nbviewer.org.</b></div><div class=\"sk-container\" hidden><div class=\"sk-item\"><div class=\"sk-estimator sk-toggleable\"><input class=\"sk-toggleable__control sk-hidden--visually\" id=\"sk-estimator-id-2\" type=\"checkbox\" checked><label for=\"sk-estimator-id-2\" class=\"sk-toggleable__label sk-toggleable__label-arrow\">TfidfVectorizer</label><div class=\"sk-toggleable__content\"><pre>TfidfVectorizer(stop_words=&#x27;english&#x27;)</pre></div></div></div></div></div>"
      ],
      "text/plain": [
       "TfidfVectorizer(stop_words='english')"
      ]
     },
     "execution_count": 19,
     "metadata": {},
     "output_type": "execute_result"
    }
   ],
   "source": [
    "tf_vect_docs"
   ]
  },
  {
   "cell_type": "code",
   "execution_count": 20,
   "id": "812ee0ad",
   "metadata": {},
   "outputs": [
    {
     "data": {
      "text/plain": [
       "<4x25 sparse matrix of type '<class 'numpy.float64'>'\n",
       "\twith 32 stored elements in Compressed Sparse Row format>"
      ]
     },
     "execution_count": 20,
     "metadata": {},
     "output_type": "execute_result"
    }
   ],
   "source": [
    "tf_matrix_docs"
   ]
  },
  {
   "cell_type": "code",
   "execution_count": 21,
   "id": "ce8fd963",
   "metadata": {
    "collapsed": true
   },
   "outputs": [
    {
     "data": {
      "text/plain": [
       "['ball',\n",
       " 'bat',\n",
       " 'cornerstone',\n",
       " 'countries',\n",
       " 'cricket',\n",
       " 'easy',\n",
       " 'evolution',\n",
       " 'football',\n",
       " 'generate',\n",
       " 'human',\n",
       " 'humans',\n",
       " 'kicking',\n",
       " 'language',\n",
       " 'languages',\n",
       " 'like',\n",
       " 'machine',\n",
       " 'making',\n",
       " 'natural',\n",
       " 'played',\n",
       " 'processing',\n",
       " 'sport',\n",
       " 'sports',\n",
       " 'study',\n",
       " 'understand',\n",
       " 'world']"
      ]
     },
     "execution_count": 21,
     "metadata": {},
     "output_type": "execute_result"
    }
   ],
   "source": [
    "tf_colnames"
   ]
  },
  {
   "cell_type": "code",
   "execution_count": 22,
   "id": "e98ef841",
   "metadata": {},
   "outputs": [
    {
     "data": {
      "text/html": [
       "<div>\n",
       "<style scoped>\n",
       "    .dataframe tbody tr th:only-of-type {\n",
       "        vertical-align: middle;\n",
       "    }\n",
       "\n",
       "    .dataframe tbody tr th {\n",
       "        vertical-align: top;\n",
       "    }\n",
       "\n",
       "    .dataframe thead th {\n",
       "        text-align: right;\n",
       "    }\n",
       "</style>\n",
       "<table border=\"1\" class=\"dataframe\">\n",
       "  <thead>\n",
       "    <tr style=\"text-align: right;\">\n",
       "      <th></th>\n",
       "      <th>ball</th>\n",
       "      <th>bat</th>\n",
       "      <th>cornerstone</th>\n",
       "      <th>countries</th>\n",
       "      <th>cricket</th>\n",
       "      <th>easy</th>\n",
       "      <th>evolution</th>\n",
       "      <th>football</th>\n",
       "      <th>generate</th>\n",
       "      <th>human</th>\n",
       "      <th>...</th>\n",
       "      <th>machine</th>\n",
       "      <th>making</th>\n",
       "      <th>natural</th>\n",
       "      <th>played</th>\n",
       "      <th>processing</th>\n",
       "      <th>sport</th>\n",
       "      <th>sports</th>\n",
       "      <th>study</th>\n",
       "      <th>understand</th>\n",
       "      <th>world</th>\n",
       "    </tr>\n",
       "  </thead>\n",
       "  <tbody>\n",
       "    <tr>\n",
       "      <th>0</th>\n",
       "      <td>0.00000</td>\n",
       "      <td>0.000000</td>\n",
       "      <td>0.00000</td>\n",
       "      <td>0.00000</td>\n",
       "      <td>0.000000</td>\n",
       "      <td>0.00000</td>\n",
       "      <td>0.00000</td>\n",
       "      <td>0.000000</td>\n",
       "      <td>0.324676</td>\n",
       "      <td>0.00000</td>\n",
       "      <td>...</td>\n",
       "      <td>0.255978</td>\n",
       "      <td>0.255978</td>\n",
       "      <td>0.324676</td>\n",
       "      <td>0.000000</td>\n",
       "      <td>0.324676</td>\n",
       "      <td>0.000000</td>\n",
       "      <td>0.000000</td>\n",
       "      <td>0.255978</td>\n",
       "      <td>0.324676</td>\n",
       "      <td>0.000000</td>\n",
       "    </tr>\n",
       "    <tr>\n",
       "      <th>1</th>\n",
       "      <td>0.30392</td>\n",
       "      <td>0.385484</td>\n",
       "      <td>0.00000</td>\n",
       "      <td>0.30392</td>\n",
       "      <td>0.385484</td>\n",
       "      <td>0.00000</td>\n",
       "      <td>0.00000</td>\n",
       "      <td>0.000000</td>\n",
       "      <td>0.000000</td>\n",
       "      <td>0.00000</td>\n",
       "      <td>...</td>\n",
       "      <td>0.000000</td>\n",
       "      <td>0.000000</td>\n",
       "      <td>0.000000</td>\n",
       "      <td>0.607841</td>\n",
       "      <td>0.000000</td>\n",
       "      <td>0.000000</td>\n",
       "      <td>0.385484</td>\n",
       "      <td>0.000000</td>\n",
       "      <td>0.000000</td>\n",
       "      <td>0.000000</td>\n",
       "    </tr>\n",
       "    <tr>\n",
       "      <th>2</th>\n",
       "      <td>0.00000</td>\n",
       "      <td>0.000000</td>\n",
       "      <td>0.34604</td>\n",
       "      <td>0.00000</td>\n",
       "      <td>0.000000</td>\n",
       "      <td>0.34604</td>\n",
       "      <td>0.34604</td>\n",
       "      <td>0.000000</td>\n",
       "      <td>0.000000</td>\n",
       "      <td>0.34604</td>\n",
       "      <td>...</td>\n",
       "      <td>0.272822</td>\n",
       "      <td>0.272822</td>\n",
       "      <td>0.000000</td>\n",
       "      <td>0.000000</td>\n",
       "      <td>0.000000</td>\n",
       "      <td>0.000000</td>\n",
       "      <td>0.000000</td>\n",
       "      <td>0.272822</td>\n",
       "      <td>0.000000</td>\n",
       "      <td>0.000000</td>\n",
       "    </tr>\n",
       "    <tr>\n",
       "      <th>3</th>\n",
       "      <td>0.28358</td>\n",
       "      <td>0.000000</td>\n",
       "      <td>0.00000</td>\n",
       "      <td>0.28358</td>\n",
       "      <td>0.000000</td>\n",
       "      <td>0.00000</td>\n",
       "      <td>0.00000</td>\n",
       "      <td>0.359685</td>\n",
       "      <td>0.000000</td>\n",
       "      <td>0.00000</td>\n",
       "      <td>...</td>\n",
       "      <td>0.000000</td>\n",
       "      <td>0.000000</td>\n",
       "      <td>0.000000</td>\n",
       "      <td>0.567160</td>\n",
       "      <td>0.000000</td>\n",
       "      <td>0.359685</td>\n",
       "      <td>0.000000</td>\n",
       "      <td>0.000000</td>\n",
       "      <td>0.000000</td>\n",
       "      <td>0.359685</td>\n",
       "    </tr>\n",
       "  </tbody>\n",
       "</table>\n",
       "<p>4 rows × 25 columns</p>\n",
       "</div>"
      ],
      "text/plain": [
       "      ball       bat  cornerstone  countries   cricket     easy  evolution  \\\n",
       "0  0.00000  0.000000      0.00000    0.00000  0.000000  0.00000    0.00000   \n",
       "1  0.30392  0.385484      0.00000    0.30392  0.385484  0.00000    0.00000   \n",
       "2  0.00000  0.000000      0.34604    0.00000  0.000000  0.34604    0.34604   \n",
       "3  0.28358  0.000000      0.00000    0.28358  0.000000  0.00000    0.00000   \n",
       "\n",
       "   football  generate    human  ...   machine    making   natural    played  \\\n",
       "0  0.000000  0.324676  0.00000  ...  0.255978  0.255978  0.324676  0.000000   \n",
       "1  0.000000  0.000000  0.00000  ...  0.000000  0.000000  0.000000  0.607841   \n",
       "2  0.000000  0.000000  0.34604  ...  0.272822  0.272822  0.000000  0.000000   \n",
       "3  0.359685  0.000000  0.00000  ...  0.000000  0.000000  0.000000  0.567160   \n",
       "\n",
       "   processing     sport    sports     study  understand     world  \n",
       "0    0.324676  0.000000  0.000000  0.255978    0.324676  0.000000  \n",
       "1    0.000000  0.000000  0.385484  0.000000    0.000000  0.000000  \n",
       "2    0.000000  0.000000  0.000000  0.272822    0.000000  0.000000  \n",
       "3    0.000000  0.359685  0.000000  0.000000    0.000000  0.359685  \n",
       "\n",
       "[4 rows x 25 columns]"
      ]
     },
     "execution_count": 22,
     "metadata": {},
     "output_type": "execute_result"
    }
   ],
   "source": [
    "tf_df"
   ]
  },
  {
   "cell_type": "code",
   "execution_count": 23,
   "id": "c0e5defe",
   "metadata": {},
   "outputs": [
    {
     "data": {
      "text/plain": [
       "['Natural Language Processing is the study of making a machine understand and generate languages like humans',\n",
       " 'Cricket is a sports played with a bat and a ball. It is not played in many countries',\n",
       " 'Languages are the cornerstone of human evolution. Making a machine study languages is not easy',\n",
       " 'Football is a sport played in almost all countries of the world. It is played by kicking a ball']"
      ]
     },
     "execution_count": 23,
     "metadata": {},
     "output_type": "execute_result"
    }
   ],
   "source": [
    "documents"
   ]
  },
  {
   "cell_type": "markdown",
   "id": "26293668",
   "metadata": {},
   "source": [
    "## Calculating the document similarities\n",
    "\n",
    "* Cosine similarity is a metric used to measure how similar the documents are irrespective of their size. Mathematically, it measures the cosine of the angle between two vectors projected in a multi-dimensional space\n",
    "* The cosine similarity is advantageous because even if the two similar documents are far apart by the Euclidean distance (due to the size of the document), chances are they may still be oriented closer together. The smaller the angle, higher the cosine similarity"
   ]
  },
  {
   "cell_type": "code",
   "execution_count": 24,
   "id": "36f9778c",
   "metadata": {},
   "outputs": [],
   "source": [
    "from sklearn.metrics.pairwise import cosine_similarity as c_sim"
   ]
  },
  {
   "cell_type": "code",
   "execution_count": 25,
   "id": "90242e25",
   "metadata": {},
   "outputs": [],
   "source": [
    "arr = tf_matrix_docs[0].toarray()"
   ]
  },
  {
   "cell_type": "code",
   "execution_count": 28,
   "id": "496b9f12",
   "metadata": {},
   "outputs": [
    {
     "data": {
      "text/plain": [
       "array([[0.        , 0.        , 0.        , 0.        , 0.        ,\n",
       "        0.        , 0.        , 0.        , 0.32467583, 0.        ,\n",
       "        0.32467583, 0.        , 0.32467583, 0.25597815, 0.32467583,\n",
       "        0.25597815, 0.25597815, 0.32467583, 0.        , 0.32467583,\n",
       "        0.        , 0.        , 0.25597815, 0.32467583, 0.        ]])"
      ]
     },
     "execution_count": 28,
     "metadata": {},
     "output_type": "execute_result"
    }
   ],
   "source": [
    "arr"
   ]
  },
  {
   "cell_type": "code",
   "execution_count": 29,
   "id": "9093a1dd",
   "metadata": {},
   "outputs": [
    {
     "data": {
      "text/plain": [
       "(numpy.ndarray, (1, 25))"
      ]
     },
     "execution_count": 29,
     "metadata": {},
     "output_type": "execute_result"
    }
   ],
   "source": [
    "type(arr),arr.shape"
   ]
  },
  {
   "cell_type": "code",
   "execution_count": 30,
   "id": "413bbfe8",
   "metadata": {},
   "outputs": [
    {
     "data": {
      "text/plain": [
       "array([[0.34918271]])"
      ]
     },
     "execution_count": 30,
     "metadata": {},
     "output_type": "execute_result"
    }
   ],
   "source": [
    "c_sim(tf_matrix_docs[0],tf_matrix_docs[2])"
   ]
  },
  {
   "cell_type": "code",
   "execution_count": 32,
   "id": "8f9c526b",
   "metadata": {},
   "outputs": [
    {
     "data": {
      "text/plain": [
       "array([[0.]])"
      ]
     },
     "execution_count": 32,
     "metadata": {},
     "output_type": "execute_result"
    }
   ],
   "source": [
    "c_sim(tf_matrix_docs[0],tf_matrix_docs[1])"
   ]
  },
  {
   "cell_type": "code",
   "execution_count": 33,
   "id": "07cf3282",
   "metadata": {},
   "outputs": [
    {
     "data": {
      "text/plain": [
       "array([[0.]])"
      ]
     },
     "execution_count": 33,
     "metadata": {},
     "output_type": "execute_result"
    }
   ],
   "source": [
    "c_sim(tf_matrix_docs[1],tf_matrix_docs[2])"
   ]
  },
  {
   "cell_type": "code",
   "execution_count": 34,
   "id": "88b8d491",
   "metadata": {},
   "outputs": [
    {
     "data": {
      "text/plain": [
       "array([[0.51711443]])"
      ]
     },
     "execution_count": 34,
     "metadata": {},
     "output_type": "execute_result"
    }
   ],
   "source": [
    "c_sim(tf_matrix_docs[1],tf_matrix_docs[3])"
   ]
  },
  {
   "cell_type": "code",
   "execution_count": 45,
   "id": "b787a85b",
   "metadata": {},
   "outputs": [
    {
     "data": {
      "text/plain": [
       "array([[1.]])"
      ]
     },
     "execution_count": 45,
     "metadata": {},
     "output_type": "execute_result"
    }
   ],
   "source": [
    "c_sim(tf_matrix_docs[3],tf_matrix_docs[3])"
   ]
  },
  {
   "cell_type": "code",
   "execution_count": 46,
   "id": "015a845a",
   "metadata": {},
   "outputs": [
    {
     "data": {
      "text/plain": [
       "array([[0.]])"
      ]
     },
     "execution_count": 46,
     "metadata": {},
     "output_type": "execute_result"
    }
   ],
   "source": [
    "c_sim(tf_matrix_docs[2],tf_matrix_docs[3])"
   ]
  }
 ],
 "metadata": {
  "kernelspec": {
   "display_name": "Python 3 (ipykernel)",
   "language": "python",
   "name": "python3"
  },
  "language_info": {
   "codemirror_mode": {
    "name": "ipython",
    "version": 3
   },
   "file_extension": ".py",
   "mimetype": "text/x-python",
   "name": "python",
   "nbconvert_exporter": "python",
   "pygments_lexer": "ipython3",
   "version": "3.8.8"
  }
 },
 "nbformat": 4,
 "nbformat_minor": 5
}
