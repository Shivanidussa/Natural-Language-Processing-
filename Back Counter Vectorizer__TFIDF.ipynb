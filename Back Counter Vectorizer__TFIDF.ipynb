{
 "cells": [
  {
   "cell_type": "markdown",
   "id": "de783575",
   "metadata": {},
   "source": [
    "# Word Representations and Text/Document similarity (count Based)"
   ]
  },
  {
   "cell_type": "markdown",
   "id": "3d93da3e",
   "metadata": {},
   "source": [
    "## Bag of Words"
   ]
  },
  {
   "cell_type": "code",
   "execution_count": 1,
   "id": "b0e1255d",
   "metadata": {},
   "outputs": [],
   "source": [
    "import pandas as pd\n",
    "import numpy as np\n",
    "import nltk\n",
    "from nltk import word_tokenize"
   ]
  },
  {
   "cell_type": "code",
   "execution_count": 2,
   "id": "8fb5e654",
   "metadata": {},
   "outputs": [
    {
     "name": "stderr",
     "output_type": "stream",
     "text": [
      "[nltk_data] Downloading package punkt to C:\\Users\\Shivani\n",
      "[nltk_data]     Dussa\\AppData\\Roaming\\nltk_data...\n",
      "[nltk_data]   Unzipping tokenizers\\punkt.zip.\n"
     ]
    },
    {
     "data": {
      "text/plain": [
       "True"
      ]
     },
     "execution_count": 2,
     "metadata": {},
     "output_type": "execute_result"
    }
   ],
   "source": [
    "nltk.download('punkt')"
   ]
  },
  {
   "cell_type": "code",
   "execution_count": 23,
   "id": "889494b2",
   "metadata": {},
   "outputs": [],
   "source": [
    "review_1 = 'The movie was good and we really like it'\n",
    "review_2 = 'the movie was good but the ending was boring'\n",
    "review_3 = 'We did not like the movie as it was too lenghty'"
   ]
  },
  {
   "cell_type": "code",
   "execution_count": 24,
   "id": "5779cb17",
   "metadata": {},
   "outputs": [],
   "source": [
    "review_1_tokens = word_tokenize(review_1)\n",
    "review_2_tokens = word_tokenize(review_2)\n",
    "review_3_tokens = word_tokenize(review_3)"
   ]
  },
  {
   "cell_type": "code",
   "execution_count": 25,
   "id": "2525427b",
   "metadata": {},
   "outputs": [
    {
     "data": {
      "text/plain": [
       "['The', 'movie', 'was', 'good', 'and', 'we', 'really', 'like', 'it']"
      ]
     },
     "execution_count": 25,
     "metadata": {},
     "output_type": "execute_result"
    }
   ],
   "source": [
    "review_1_tokens"
   ]
  },
  {
   "cell_type": "code",
   "execution_count": 26,
   "id": "a0e4b40f",
   "metadata": {},
   "outputs": [
    {
     "data": {
      "text/plain": [
       "['the', 'movie', 'was', 'good', 'but', 'the', 'ending', 'was', 'boring']"
      ]
     },
     "execution_count": 26,
     "metadata": {},
     "output_type": "execute_result"
    }
   ],
   "source": [
    "review_2_tokens"
   ]
  },
  {
   "cell_type": "code",
   "execution_count": 16,
   "id": "dfc85f4c",
   "metadata": {
    "collapsed": true
   },
   "outputs": [
    {
     "data": {
      "text/plain": [
       "['We',\n",
       " 'did',\n",
       " 'not',\n",
       " 'like',\n",
       " 'the',\n",
       " 'movie',\n",
       " 'as',\n",
       " 'it',\n",
       " 'was',\n",
       " 'too',\n",
       " 'lenghty']"
      ]
     },
     "execution_count": 16,
     "metadata": {},
     "output_type": "execute_result"
    }
   ],
   "source": [
    "review_3_tokens"
   ]
  },
  {
   "cell_type": "code",
   "execution_count": 27,
   "id": "c26e0c20",
   "metadata": {},
   "outputs": [
    {
     "name": "stdout",
     "output_type": "stream",
     "text": [
      "{'but', 'boring', 'movie', 'ending', 'good', 'the', 'was'}\n"
     ]
    }
   ],
   "source": [
    "#print(review_2_tokens)\n",
    "print(set(review_2_tokens))"
   ]
  },
  {
   "cell_type": "code",
   "execution_count": 21,
   "id": "007f9608",
   "metadata": {},
   "outputs": [
    {
     "name": "stdout",
     "output_type": "stream",
     "text": [
      "{'movie', 'it', 'really', 'The', 'we', 'good', 'and', 'like', 'was'}\n"
     ]
    }
   ],
   "source": [
    "print(set(review_1_tokens))"
   ]
  },
  {
   "cell_type": "code",
   "execution_count": 29,
   "id": "cf368363",
   "metadata": {},
   "outputs": [
    {
     "name": "stdout",
     "output_type": "stream",
     "text": [
      "19\n",
      "{'as', 'but', 'lenghty', 'boring', 'movie', 'really', 'ending', 'too', 'good', 'We', 'did', 'not', 'it', 'The', 'we', 'the', 'and', 'like', 'was'}\n"
     ]
    }
   ],
   "source": [
    "review_tokens = set(review_1_tokens).union(set(review_2_tokens)).union(set(review_3_tokens))\n",
    "print(len(review_tokens))\n",
    "print(review_tokens)"
   ]
  },
  {
   "cell_type": "code",
   "execution_count": 31,
   "id": "99e9852a",
   "metadata": {},
   "outputs": [
    {
     "name": "stdout",
     "output_type": "stream",
     "text": [
      "{'as': 0, 'but': 0, 'lenghty': 0, 'boring': 0, 'movie': 0, 'really': 0, 'ending': 0, 'too': 0, 'good': 0, 'We': 0, 'did': 0, 'not': 0, 'it': 0, 'The': 0, 'we': 0, 'the': 0, 'and': 0, 'like': 0, 'was': 0}\n",
      "{'as': 0, 'but': 0, 'lenghty': 0, 'boring': 0, 'movie': 0, 'really': 0, 'ending': 0, 'too': 0, 'good': 0, 'We': 0, 'did': 0, 'not': 0, 'it': 0, 'The': 0, 'we': 0, 'the': 0, 'and': 0, 'like': 0, 'was': 0}\n",
      "{'as': 0, 'but': 0, 'lenghty': 0, 'boring': 0, 'movie': 0, 'really': 0, 'ending': 0, 'too': 0, 'good': 0, 'We': 0, 'did': 0, 'not': 0, 'it': 0, 'The': 0, 'we': 0, 'the': 0, 'and': 0, 'like': 0, 'was': 0}\n"
     ]
    }
   ],
   "source": [
    "review1_dict = dict.fromkeys(review_tokens,0)\n",
    "review2_dict = dict.fromkeys(review_tokens,0)\n",
    "review3_dict = dict.fromkeys(review_tokens,0)\n",
    "print(review1_dict)\n",
    "print(review2_dict)\n",
    "print(review3_dict)"
   ]
  },
  {
   "cell_type": "code",
   "execution_count": 33,
   "id": "02448501",
   "metadata": {},
   "outputs": [],
   "source": [
    "for token in review_1_tokens:\n",
    "    review1_dict[token]+=1\n",
    "for token in review_2_tokens:\n",
    "    review2_dict[token]+=1\n",
    "for token in review_3_tokens:\n",
    "    review3_dict[token]+=1"
   ]
  },
  {
   "cell_type": "code",
   "execution_count": 36,
   "id": "fb479a25",
   "metadata": {},
   "outputs": [
    {
     "name": "stdout",
     "output_type": "stream",
     "text": [
      "{'as': 0, 'but': 0, 'lenghty': 0, 'boring': 0, 'movie': 1, 'really': 1, 'ending': 0, 'too': 0, 'good': 1, 'We': 0, 'did': 0, 'not': 0, 'it': 1, 'The': 1, 'we': 1, 'the': 0, 'and': 1, 'like': 1, 'was': 1}\n",
      "{'as': 0, 'but': 1, 'lenghty': 0, 'boring': 1, 'movie': 1, 'really': 0, 'ending': 1, 'too': 0, 'good': 1, 'We': 0, 'did': 0, 'not': 0, 'it': 0, 'The': 0, 'we': 0, 'the': 2, 'and': 0, 'like': 0, 'was': 2}\n",
      "{'as': 1, 'but': 0, 'lenghty': 1, 'boring': 0, 'movie': 1, 'really': 0, 'ending': 0, 'too': 1, 'good': 0, 'We': 1, 'did': 1, 'not': 1, 'it': 1, 'The': 0, 'we': 0, 'the': 1, 'and': 0, 'like': 1, 'was': 1}\n"
     ]
    }
   ],
   "source": [
    "print(review1_dict)\n",
    "print(review2_dict)\n",
    "print(review3_dict)"
   ]
  },
  {
   "cell_type": "code",
   "execution_count": 38,
   "id": "49414a08",
   "metadata": {},
   "outputs": [
    {
     "data": {
      "text/html": [
       "<div>\n",
       "<style scoped>\n",
       "    .dataframe tbody tr th:only-of-type {\n",
       "        vertical-align: middle;\n",
       "    }\n",
       "\n",
       "    .dataframe tbody tr th {\n",
       "        vertical-align: top;\n",
       "    }\n",
       "\n",
       "    .dataframe thead th {\n",
       "        text-align: right;\n",
       "    }\n",
       "</style>\n",
       "<table border=\"1\" class=\"dataframe\">\n",
       "  <thead>\n",
       "    <tr style=\"text-align: right;\">\n",
       "      <th></th>\n",
       "      <th>as</th>\n",
       "      <th>but</th>\n",
       "      <th>lenghty</th>\n",
       "      <th>boring</th>\n",
       "      <th>movie</th>\n",
       "      <th>really</th>\n",
       "      <th>ending</th>\n",
       "      <th>too</th>\n",
       "      <th>good</th>\n",
       "      <th>We</th>\n",
       "      <th>did</th>\n",
       "      <th>not</th>\n",
       "      <th>it</th>\n",
       "      <th>The</th>\n",
       "      <th>we</th>\n",
       "      <th>the</th>\n",
       "      <th>and</th>\n",
       "      <th>like</th>\n",
       "      <th>was</th>\n",
       "    </tr>\n",
       "  </thead>\n",
       "  <tbody>\n",
       "    <tr>\n",
       "      <th>0</th>\n",
       "      <td>0</td>\n",
       "      <td>0</td>\n",
       "      <td>0</td>\n",
       "      <td>0</td>\n",
       "      <td>1</td>\n",
       "      <td>1</td>\n",
       "      <td>0</td>\n",
       "      <td>0</td>\n",
       "      <td>1</td>\n",
       "      <td>0</td>\n",
       "      <td>0</td>\n",
       "      <td>0</td>\n",
       "      <td>1</td>\n",
       "      <td>1</td>\n",
       "      <td>1</td>\n",
       "      <td>0</td>\n",
       "      <td>1</td>\n",
       "      <td>1</td>\n",
       "      <td>1</td>\n",
       "    </tr>\n",
       "    <tr>\n",
       "      <th>1</th>\n",
       "      <td>0</td>\n",
       "      <td>1</td>\n",
       "      <td>0</td>\n",
       "      <td>1</td>\n",
       "      <td>1</td>\n",
       "      <td>0</td>\n",
       "      <td>1</td>\n",
       "      <td>0</td>\n",
       "      <td>1</td>\n",
       "      <td>0</td>\n",
       "      <td>0</td>\n",
       "      <td>0</td>\n",
       "      <td>0</td>\n",
       "      <td>0</td>\n",
       "      <td>0</td>\n",
       "      <td>2</td>\n",
       "      <td>0</td>\n",
       "      <td>0</td>\n",
       "      <td>2</td>\n",
       "    </tr>\n",
       "    <tr>\n",
       "      <th>2</th>\n",
       "      <td>1</td>\n",
       "      <td>0</td>\n",
       "      <td>1</td>\n",
       "      <td>0</td>\n",
       "      <td>1</td>\n",
       "      <td>0</td>\n",
       "      <td>0</td>\n",
       "      <td>1</td>\n",
       "      <td>0</td>\n",
       "      <td>1</td>\n",
       "      <td>1</td>\n",
       "      <td>1</td>\n",
       "      <td>1</td>\n",
       "      <td>0</td>\n",
       "      <td>0</td>\n",
       "      <td>1</td>\n",
       "      <td>0</td>\n",
       "      <td>1</td>\n",
       "      <td>1</td>\n",
       "    </tr>\n",
       "  </tbody>\n",
       "</table>\n",
       "</div>"
      ],
      "text/plain": [
       "   as  but  lenghty  boring  movie  really  ending  too  good  We  did  not  \\\n",
       "0   0    0        0       0      1       1       0    0     1   0    0    0   \n",
       "1   0    1        0       1      1       0       1    0     1   0    0    0   \n",
       "2   1    0        1       0      1       0       0    1     0   1    1    1   \n",
       "\n",
       "   it  The  we  the  and  like  was  \n",
       "0   1    1   1    0    1     1    1  \n",
       "1   0    0   0    2    0     0    2  \n",
       "2   1    0   0    1    0     1    1  "
      ]
     },
     "execution_count": 38,
     "metadata": {},
     "output_type": "execute_result"
    }
   ],
   "source": [
    "df_reviews_dict = pd.DataFrame([review1_dict,review2_dict,review3_dict]) \n",
    "df_reviews_dict"
   ]
  },
  {
   "cell_type": "markdown",
   "id": "73921987",
   "metadata": {},
   "source": [
    "**This is the Term Frequency Matrix(TFM) or Document Term Matrix(DTM)**"
   ]
  },
  {
   "cell_type": "markdown",
   "id": "d79ad91b",
   "metadata": {},
   "source": [
    "## Count Vectorizer \n",
    "- sklearn implementation of TFM creation using Bag of Words"
   ]
  },
  {
   "cell_type": "code",
   "execution_count": 39,
   "id": "baf5bac8",
   "metadata": {},
   "outputs": [],
   "source": [
    "from sklearn.feature_extraction.text import CountVectorizer"
   ]
  },
  {
   "cell_type": "code",
   "execution_count": 41,
   "id": "f1c7596b",
   "metadata": {},
   "outputs": [
    {
     "data": {
      "text/plain": [
       "['The movie was good and we really like it',\n",
       " 'the movie was good but the ending was boring',\n",
       " 'We did not like the movie as it was too lenghty']"
      ]
     },
     "execution_count": 41,
     "metadata": {},
     "output_type": "execute_result"
    }
   ],
   "source": [
    "review_list = [review_1,review_2,review_3]\n",
    "review_list"
   ]
  },
  {
   "cell_type": "code",
   "execution_count": 42,
   "id": "bafe982d",
   "metadata": {},
   "outputs": [
    {
     "name": "stderr",
     "output_type": "stream",
     "text": [
      "C:\\Users\\Shivani Dussa\\anaconda3\\lib\\site-packages\\sklearn\\utils\\deprecation.py:87: FutureWarning: Function get_feature_names is deprecated; get_feature_names is deprecated in 1.0 and will be removed in 1.2. Please use get_feature_names_out instead.\n",
      "  warnings.warn(msg, category=FutureWarning)\n"
     ]
    }
   ],
   "source": [
    "count_vector = CountVectorizer(stop_words = 'english')\n",
    "tfm = count_vector.fit_transform(review_list)\n",
    "col_names = count_vector.get_feature_names()"
   ]
  },
  {
   "cell_type": "code",
   "execution_count": 45,
   "id": "92d1c1cb",
   "metadata": {},
   "outputs": [],
   "source": [
    "col_name_out = count_vector.get_feature_names_out()"
   ]
  },
  {
   "cell_type": "code",
   "execution_count": 48,
   "id": "6d5e4a37",
   "metadata": {},
   "outputs": [
    {
     "data": {
      "text/plain": [
       "array(['boring', 'did', 'ending', 'good', 'lenghty', 'like', 'movie',\n",
       "       'really'], dtype=object)"
      ]
     },
     "execution_count": 48,
     "metadata": {},
     "output_type": "execute_result"
    }
   ],
   "source": [
    "col_name_out"
   ]
  },
  {
   "cell_type": "code",
   "execution_count": 50,
   "id": "071f6afb",
   "metadata": {},
   "outputs": [
    {
     "data": {
      "text/plain": [
       "array(['boring', 'did', 'ending', 'good', 'lenghty', 'like', 'movie',\n",
       "       'really'], dtype=object)"
      ]
     },
     "execution_count": 50,
     "metadata": {},
     "output_type": "execute_result"
    }
   ],
   "source": [
    "col_names"
   ]
  },
  {
   "cell_type": "markdown",
   "id": "50691bfb",
   "metadata": {},
   "source": [
    "### CSR means Compressed Sparced Row, which is a row-wise sparse matrix "
   ]
  },
  {
   "cell_type": "code",
   "execution_count": 52,
   "id": "1e14fd34",
   "metadata": {},
   "outputs": [
    {
     "name": "stdout",
     "output_type": "stream",
     "text": [
      "<class 'scipy.sparse.csr.csr_matrix'>\n",
      "[[0 0 0 1 0 1 1 1]\n",
      " [1 0 1 1 0 0 1 0]\n",
      " [0 1 0 0 1 1 1 0]]\n",
      "['boring' 'did' 'ending' 'good' 'lenghty' 'like' 'movie' 'really']\n"
     ]
    }
   ],
   "source": [
    "print(type(tfm))\n",
    "print(tfm.toarray())\n",
    "print(col_names)"
   ]
  },
  {
   "cell_type": "code",
   "execution_count": 53,
   "id": "da8eee44",
   "metadata": {},
   "outputs": [
    {
     "data": {
      "text/html": [
       "<div>\n",
       "<style scoped>\n",
       "    .dataframe tbody tr th:only-of-type {\n",
       "        vertical-align: middle;\n",
       "    }\n",
       "\n",
       "    .dataframe tbody tr th {\n",
       "        vertical-align: top;\n",
       "    }\n",
       "\n",
       "    .dataframe thead th {\n",
       "        text-align: right;\n",
       "    }\n",
       "</style>\n",
       "<table border=\"1\" class=\"dataframe\">\n",
       "  <thead>\n",
       "    <tr style=\"text-align: right;\">\n",
       "      <th></th>\n",
       "      <th>boring</th>\n",
       "      <th>did</th>\n",
       "      <th>ending</th>\n",
       "      <th>good</th>\n",
       "      <th>lenghty</th>\n",
       "      <th>like</th>\n",
       "      <th>movie</th>\n",
       "      <th>really</th>\n",
       "    </tr>\n",
       "  </thead>\n",
       "  <tbody>\n",
       "    <tr>\n",
       "      <th>0</th>\n",
       "      <td>0</td>\n",
       "      <td>0</td>\n",
       "      <td>0</td>\n",
       "      <td>1</td>\n",
       "      <td>0</td>\n",
       "      <td>1</td>\n",
       "      <td>1</td>\n",
       "      <td>1</td>\n",
       "    </tr>\n",
       "    <tr>\n",
       "      <th>1</th>\n",
       "      <td>1</td>\n",
       "      <td>0</td>\n",
       "      <td>1</td>\n",
       "      <td>1</td>\n",
       "      <td>0</td>\n",
       "      <td>0</td>\n",
       "      <td>1</td>\n",
       "      <td>0</td>\n",
       "    </tr>\n",
       "    <tr>\n",
       "      <th>2</th>\n",
       "      <td>0</td>\n",
       "      <td>1</td>\n",
       "      <td>0</td>\n",
       "      <td>0</td>\n",
       "      <td>1</td>\n",
       "      <td>1</td>\n",
       "      <td>1</td>\n",
       "      <td>0</td>\n",
       "    </tr>\n",
       "  </tbody>\n",
       "</table>\n",
       "</div>"
      ],
      "text/plain": [
       "   boring  did  ending  good  lenghty  like  movie  really\n",
       "0       0    0       0     1        0     1      1       1\n",
       "1       1    0       1     1        0     0      1       0\n",
       "2       0    1       0     0        1     1      1       0"
      ]
     },
     "execution_count": 53,
     "metadata": {},
     "output_type": "execute_result"
    }
   ],
   "source": [
    "data = pd.DataFrame(tfm.toarray(),columns = col_names)\n",
    "data"
   ]
  },
  {
   "cell_type": "markdown",
   "id": "35316fa1",
   "metadata": {},
   "source": [
    "## TF-IDF"
   ]
  },
  {
   "cell_type": "code",
   "execution_count": 54,
   "id": "b737eea1",
   "metadata": {},
   "outputs": [],
   "source": [
    "from sklearn.feature_extraction.text import TfidfVectorizer"
   ]
  },
  {
   "cell_type": "code",
   "execution_count": null,
   "id": "715db0c6",
   "metadata": {},
   "outputs": [],
   "source": []
  }
 ],
 "metadata": {
  "kernelspec": {
   "display_name": "Python 3 (ipykernel)",
   "language": "python",
   "name": "python3"
  },
  "language_info": {
   "codemirror_mode": {
    "name": "ipython",
    "version": 3
   },
   "file_extension": ".py",
   "mimetype": "text/x-python",
   "name": "python",
   "nbconvert_exporter": "python",
   "pygments_lexer": "ipython3",
   "version": "3.8.8"
  }
 },
 "nbformat": 4,
 "nbformat_minor": 5
}
