{
 "cells": [
  {
   "cell_type": "markdown",
   "id": "e73fe792",
   "metadata": {},
   "source": [
    "# Word Embedding using Spacy"
   ]
  },
  {
   "cell_type": "markdown",
   "id": "b89ad461",
   "metadata": {},
   "source": [
    "Alternatively, you can use gensim also for word embedding. It allows to load Google's word2vec and Stanford's GloVe embeddings."
   ]
  },
  {
   "cell_type": "code",
   "execution_count": 1,
   "id": "0813d34f",
   "metadata": {},
   "outputs": [],
   "source": [
    "import spacy"
   ]
  },
  {
   "cell_type": "code",
   "execution_count": 3,
   "id": "217f6f92",
   "metadata": {},
   "outputs": [],
   "source": [
    "nlp =  spacy.load('en_core_web_md')"
   ]
  },
  {
   "cell_type": "code",
   "execution_count": 4,
   "id": "6a3454e4",
   "metadata": {},
   "outputs": [
    {
     "name": "stdout",
     "output_type": "stream",
     "text": [
      "happy (300,)\n",
      "glad (300,)\n",
      "sad (300,)\n"
     ]
    }
   ],
   "source": [
    "tokens = nlp(\"happy glad sad\")\n",
    "for token in tokens:\n",
    "    print(token.text, token.vector.shape)     # Here the vector size is 300"
   ]
  },
  {
   "cell_type": "code",
   "execution_count": 6,
   "id": "f97879df",
   "metadata": {
    "collapsed": true
   },
   "outputs": [
    {
     "data": {
      "text/plain": [
       "array([ 1.0727  ,  0.91195 , -4.1039  , -5.9668  ,  1.1263  , -0.83625 ,\n",
       "        6.5321  ,  2.9779  , -1.4953  ,  1.6501  ,  4.1008  , -0.4266  ,\n",
       "       -4.7607  ,  0.36301 ,  4.2993  , -3.6101  , -1.889   , -4.1127  ,\n",
       "       -1.3471  , -0.89894 ,  0.097736,  0.15628 ,  1.4744  , -1.5274  ,\n",
       "        2.5652  ,  0.087846, -4.1222  ,  5.9653  ,  2.4877  ,  3.5936  ,\n",
       "        1.601   , -4.1639  , -3.1682  , -2.8031  ,  5.6053  ,  0.14115 ,\n",
       "       -0.25719 , -3.6074  ,  4.2861  ,  1.382   , -0.94911 ,  5.7315  ,\n",
       "        2.5586  , -3.0848  , -1.4495  ,  3.7087  , -0.53288 , -2.3908  ,\n",
       "        1.2943  ,  2.3577  ,  3.9595  , -3.0808  ,  1.5959  , -2.2442  ,\n",
       "       -0.62637 , -2.9861  , -2.2205  , -1.1305  ,  1.3804  ,  2.5867  ,\n",
       "        2.763   ,  0.50591 ,  3.0677  , -0.61219 ,  0.64739 , -2.359   ,\n",
       "       -2.011   , -2.8984  ,  1.6451  , -2.4643  ,  1.6514  ,  0.20814 ,\n",
       "       -2.4877  , -2.2363  ,  0.96361 , -0.96412 , -1.3239  ,  1.0742  ,\n",
       "       -0.27852 , -2.4566  ,  1.7298  , -3.3927  ,  2.1089  ,  0.90448 ,\n",
       "       -1.5328  ,  0.86462 ,  3.5339  ,  1.1258  , -3.2568  , -1.3779  ,\n",
       "       -0.68623 ,  3.9564  , -3.4808  , -5.2019  ,  1.4987  , -1.0585  ,\n",
       "        2.728   , -6.1352  ,  0.8505  , -0.91237 ,  1.8974  ,  2.5978  ,\n",
       "        0.39621 ,  3.1309  , -3.6546  ,  1.3873  , -4.0891  , -0.54836 ,\n",
       "       -1.9152  , -0.37005 ,  0.2584  , -3.3973  ,  1.5201  , -6.2553  ,\n",
       "       -1.0796  ,  2.8594  , -4.876   , -8.2331  ,  2.7122  ,  1.8854  ,\n",
       "       -2.4079  , -0.47123 , -1.5291  ,  3.0175  ,  2.7858  ,  2.3865  ,\n",
       "        1.8145  , -2.0765  ,  1.7502  , -3.0525  , -4.3591  , -0.53213 ,\n",
       "       -2.1454  , -2.5447  , -0.438   , -1.4258  , -1.9157  , -1.6171  ,\n",
       "        5.8285  ,  1.1991  , -2.8218  ,  0.043204,  3.5379  ,  3.5541  ,\n",
       "       -7.2266  , -0.72617 ,  0.56633 , -2.4348  ,  0.39325 ,  0.69029 ,\n",
       "       -3.0725  ,  1.5416  ,  1.7953  , -2.2407  ,  0.698   ,  1.7164  ,\n",
       "        7.15    , -1.4165  , -0.42141 , -3.2721  ,  1.4328  , -3.6265  ,\n",
       "       -6.3823  , -0.46848 , -1.0379  ,  1.0466  ,  0.87008 , -2.357   ,\n",
       "       -1.4904  , -0.54497 ,  3.3646  ,  3.1787  , -0.51058 , -2.8319  ,\n",
       "        2.9578  , -0.93904 , -0.9987  ,  3.5361  ,  0.94907 , -1.29    ,\n",
       "        2.9977  ,  3.2273  ,  4.1075  , -1.5983  ,  0.29348 ,  2.4246  ,\n",
       "        2.2037  , -6.4413  , -0.055544,  3.4999  , -1.4565  ,  6.8339  ,\n",
       "       -3.3839  , -1.9973  , -0.93155 , -2.3863  , -3.6192  ,  1.5612  ,\n",
       "       -2.911   ,  1.8757  , -1.0683  , -0.40643 , -4.1491  , -0.16276 ,\n",
       "       -2.5662  ,  3.2755  ,  3.3367  ,  2.7256  ,  0.79124 ,  1.0789  ,\n",
       "        3.8892  ,  0.66009 ,  1.1769  ,  0.92851 , -1.7587  ,  3.8739  ,\n",
       "       -0.074525,  2.6581  , -1.9163  ,  2.3657  , -1.2286  ,  0.87889 ,\n",
       "       -3.2244  ,  3.2322  ,  0.95236 , -0.31974 , -2.4018  , -0.027426,\n",
       "        3.7302  ,  2.131   , -5.8045  , -1.0454  , -0.66586 ,  0.29267 ,\n",
       "       -1.5386  ,  2.4998  , -0.79626 ,  5.2818  , -1.048   ,  1.4811  ,\n",
       "       -0.9604  , -2.7624  ,  0.57054 , -3.2426  ,  1.9664  , -1.1249  ,\n",
       "       -0.73802 , -1.5845  ,  4.7569  ,  2.9549  ,  2.4597  ,  2.3944  ,\n",
       "       -3.3849  ,  2.4664  ,  2.7727  , -6.4496  , -1.7051  ,  0.095561,\n",
       "       -1.6132  ,  1.5263  ,  1.5727  , -0.22175 , -0.3177  ,  0.37162 ,\n",
       "        0.83749 ,  0.078783,  0.026365,  1.5217  , -3.5558  , -2.1386  ,\n",
       "        0.43453 , -1.5964  , -1.0109  , -1.6598  , -1.3195  , -1.1033  ,\n",
       "        3.2393  , -2.1572  ,  0.055977,  0.89149 ,  0.60515 , -4.3048  ,\n",
       "       -4.0544  , -0.75188 ,  4.1462  , -0.92559 ,  3.5261  ,  2.5949  ,\n",
       "       -3.5926  , -1.9169  ,  3.328   , -2.2059  , -0.78317 , -4.6701  ,\n",
       "        0.19135 , -1.6233  , -1.7663  ,  1.3902  , -6.9965  ,  1.204   ],\n",
       "      dtype=float32)"
      ]
     },
     "execution_count": 6,
     "metadata": {},
     "output_type": "execute_result"
    }
   ],
   "source": [
    "tokens[0].vector"
   ]
  },
  {
   "cell_type": "code",
   "execution_count": 9,
   "id": "701182cb",
   "metadata": {
    "collapsed": true
   },
   "outputs": [
    {
     "data": {
      "text/plain": [
       "(glad,\n",
       " array([ 2.3592  , -3.4498  , -0.7686  , -3.9027  , -2.3501  , -0.58335 ,\n",
       "         2.3763  ,  2.8576  ,  0.3097  ,  3.8699  , -0.0146  ,  3.4956  ,\n",
       "         0.11664 , -0.71988 ,  2.8354  , -2.6566  , -2.9125  , -3.2881  ,\n",
       "        -2.3098  ,  0.091499,  4.8607  , -1.5876  ,  2.6377  , -3.304   ,\n",
       "         2.7608  ,  3.6213  , -0.71551 ,  0.31359 , -2.7146  ,  1.2875  ,\n",
       "        -1.5088  , -5.2754  , -4.2432  ,  2.6075  ,  1.7475  , -1.3961  ,\n",
       "        -2.7691  , -5.6746  ,  1.9935  , -2.3967  , -2.3437  ,  5.7126  ,\n",
       "        -0.56181 , -4.1809  ,  1.9945  , -0.96435 , -2.0457  , -2.6322  ,\n",
       "        -1.0247  , -1.1666  ,  3.0039  , -4.3334  ,  0.16111 ,  0.060752,\n",
       "        -0.28778 , -5.6786  , -2.6689  ,  1.6075  ,  0.28878 ,  2.0802  ,\n",
       "         2.3703  ,  0.29547 ,  5.2534  , -0.066632, -1.3102  , -2.4773  ,\n",
       "         0.37562 ,  5.4862  , -0.31444 , -1.4564  ,  3.455   ,  0.76463 ,\n",
       "        -5.646   , -4.4649  ,  1.3739  , -2.1113  , -1.5643  ,  1.4846  ,\n",
       "         1.3028  , -4.4623  ,  2.9755  , -0.86335 ,  0.98212 , -2.5884  ,\n",
       "        -0.36227 ,  0.79005 ,  5.1722  ,  1.0955  ,  0.84698 , -3.6714  ,\n",
       "         0.68223 ,  1.9955  ,  3.0464  , -1.8025  ,  3.0035  , -1.3417  ,\n",
       "         2.3459  , -3.3816  , -0.86079 ,  4.1215  ,  3.8962  ,  3.3933  ,\n",
       "        -3.9379  , -0.012517,  1.4646  ,  1.0924  , -2.4989  , -1.147   ,\n",
       "        -2.1187  , -1.2917  , -0.95614 , -3.7127  ,  1.5477  , -4.2533  ,\n",
       "        -0.467   , -2.6227  ,  1.6482  , -4.5823  ,  2.8255  ,  0.89272 ,\n",
       "        -2.4206  , -0.84478 , -3.9569  ,  3.9882  ,  1.835   ,  3.759   ,\n",
       "         0.83528 , -1.4116  ,  0.85186 , -3.1592  , -3.7536  ,  4.2547  ,\n",
       "        -5.0963  , -1.503   ,  2.3749  ,  0.95366 , -1.943   ,  0.28297 ,\n",
       "         3.6058  , -1.8578  , -4.0837  , -1.3057  ,  6.5187  ,  2.3879  ,\n",
       "        -6.551   , -1.0995  ,  2.5991  , -2.7991  , -0.61678 , -4.7213  ,\n",
       "        -1.6089  ,  0.33769 , -2.5289  , -5.0119  ,  1.8937  ,  4.2425  ,\n",
       "         4.3925  , -0.29067 , -2.5951  , -0.73958 , -2.155   , -3.4056  ,\n",
       "        -4.3254  ,  0.94634 , -1.5767  ,  3.3474  ,  2.6598  , -5.3614  ,\n",
       "        -0.52261 , -1.0195  ,  1.3772  , -1.0769  , -1.2588  , -4.1415  ,\n",
       "         1.9942  , -3.1148  , -2.543   ,  2.5974  ,  2.6205  , -1.3126  ,\n",
       "        -3.2336  ,  1.5776  ,  5.4277  , -0.3497  , -0.85977 ,  4.0246  ,\n",
       "         1.4203  , -2.4307  ,  1.7499  ,  0.92479 ,  0.59456 ,  7.0357  ,\n",
       "        -2.423   ,  1.1494  , -0.59109 , -1.2819  , -0.60476 ,  1.6986  ,\n",
       "        -2.8588  ,  2.5831  , -1.1256  ,  0.37594 ,  0.58387 , -0.26309 ,\n",
       "        -0.76588 , -0.59965 ,  2.7116  ,  1.8527  ,  0.52332 , -2.0795  ,\n",
       "         0.46145 ,  2.3688  ,  2.2051  , -1.3979  , -5.9149  ,  1.4125  ,\n",
       "        -0.25163 ,  3.2368  ,  1.1807  ,  1.2526  , -1.2844  ,  1.5759  ,\n",
       "        -4.0045  ,  0.44569 ,  1.454   , -1.6602  ,  1.951   ,  3.3262  ,\n",
       "         1.8425  ,  0.83697 , -7.3926  , -0.56102 , -1.213   ,  0.86859 ,\n",
       "        -5.4922  , -1.9295  , -1.5744  ,  2.3639  , -1.073   ,  1.6419  ,\n",
       "        -4.5544  , -2.1739  , -0.38603 , -1.5979  ,  2.1824  , -1.9335  ,\n",
       "         1.7072  , -0.83894 ,  4.7063  ,  2.7643  ,  2.1535  ,  0.49974 ,\n",
       "        -2.3594  ,  1.5233  ,  2.2547  , -7.4834  , -4.1193  , -2.0494  ,\n",
       "        -2.1406  ,  0.20703 ,  5.6664  , -1.4195  ,  1.1791  ,  2.5805  ,\n",
       "         2.7235  , -0.4422  , -1.1093  , -1.4546  , -0.76695 ,  2.0964  ,\n",
       "        -3.6413  , -1.455   , -1.9069  , -0.62093 , -0.44081 , -3.6464  ,\n",
       "         4.6673  , -2.9545  , -1.0757  ,  1.173   , -1.712   , -5.5518  ,\n",
       "        -0.3506  ,  1.3523  ,  4.5099  , -4.1213  ,  1.796   ,  4.2391  ,\n",
       "        -0.3808  ,  3.2264  ,  4.7527  ,  0.18    ,  3.2335  , -0.6642  ,\n",
       "         2.1928  , -0.31502 , -1.6712  , -0.18488 , -3.1106  ,  0.11544 ],\n",
       "       dtype=float32))"
      ]
     },
     "execution_count": 9,
     "metadata": {},
     "output_type": "execute_result"
    }
   ],
   "source": [
    "tokens[1],tokens[1].vector"
   ]
  },
  {
   "cell_type": "code",
   "execution_count": 11,
   "id": "4b28d372",
   "metadata": {},
   "outputs": [
    {
     "name": "stdout",
     "output_type": "stream",
     "text": [
      "happy happy 1.0\n",
      "happy glad 0.6186302304267883\n",
      "happy sad 0.5034751296043396\n",
      "glad happy 0.6186302304267883\n",
      "glad glad 1.0\n",
      "glad sad 0.46736589074134827\n",
      "sad happy 0.5034751296043396\n",
      "sad glad 0.46736589074134827\n",
      "sad sad 1.0\n"
     ]
    }
   ],
   "source": [
    "for token1 in tokens:\n",
    "    for token2 in tokens:\n",
    "        print(token1.text,token2.text,token1.similarity(token2))   #finding similarity between token0,1,2 \n",
    "        "
   ]
  },
  {
   "cell_type": "raw",
   "id": "56addebb",
   "metadata": {},
   "source": [
    " co-relation between happy happy is 100% same,happy glad have  61% same happy sad have 50% co-relation and like wise......."
   ]
  },
  {
   "cell_type": "code",
   "execution_count": 14,
   "id": "fa04a91e",
   "metadata": {},
   "outputs": [
    {
     "name": "stdout",
     "output_type": "stream",
     "text": [
      "dog dog 1.0\n",
      "dog banana 0.2090904861688614\n",
      "dog cat 0.8220816850662231\n",
      "banana dog 0.2090904861688614\n",
      "banana banana 1.0\n",
      "banana cat 0.2235882729291916\n",
      "cat dog 0.8220816850662231\n",
      "cat banana 0.2235882729291916\n",
      "cat cat 1.0\n"
     ]
    }
   ],
   "source": [
    "tokens = nlp(\"dog banana cat\")\n",
    "for token1 in tokens:\n",
    "    for token2 in tokens:\n",
    "        print(token1.text,token2.text,token1.similarity(token2))"
   ]
  },
  {
   "cell_type": "raw",
   "id": "7fd8cb34",
   "metadata": {},
   "source": [
    "dog banana has low co-relation 0.20 and dog cat has high co-relation(similarity) 0.82"
   ]
  },
  {
   "cell_type": "code",
   "execution_count": 33,
   "id": "5305e9f1",
   "metadata": {},
   "outputs": [
    {
     "name": "stdout",
     "output_type": "stream",
     "text": [
      "india delhi 0.4049902856349945\n",
      "meditation yoga 0.4645000994205475\n"
     ]
    }
   ],
   "source": [
    "tokens = nlp(\"india delhi\")\n",
    "print(tokens[0].text,tokens[1].text,tokens[0].similarity(tokens[1])) \n",
    "tokens = nlp(\"meditation yoga\")\n",
    "print(tokens[0].text,tokens[1].text,tokens[0].similarity(tokens[1]))"
   ]
  },
  {
   "cell_type": "code",
   "execution_count": 42,
   "id": "c1608305",
   "metadata": {},
   "outputs": [
    {
     "name": "stdout",
     "output_type": "stream",
     "text": [
      "Burger Burger 1.0\n",
      "pen pencil 0.7466830611228943\n",
      "tiger lion 0.713609516620636\n",
      "time mobile 0.2071923017501831\n"
     ]
    }
   ],
   "source": [
    "tokens = nlp(\"Burger Burger\")\n",
    "print(tokens[0].text,tokens[1].text,tokens[0].similarity(tokens[1]))\n",
    "tokens = nlp(\"pen pencil\")\n",
    "print(tokens[0].text,tokens[1].text,tokens[0].similarity(tokens[1]))\n",
    "tokens = nlp(\"tiger lion\")\n",
    "print(tokens[0].text,tokens[1].text,tokens[0].similarity(tokens[1]))\n",
    "tokens = nlp(\"time mobile\")\n",
    "print(tokens[0].text,tokens[1].text,tokens[0].similarity(tokens[1]))"
   ]
  },
  {
   "cell_type": "code",
   "execution_count": 43,
   "id": "2ccf4754",
   "metadata": {},
   "outputs": [
    {
     "name": "stdout",
     "output_type": "stream",
     "text": [
      "NarendraModi PrimeMinister 0.0\n"
     ]
    },
    {
     "name": "stderr",
     "output_type": "stream",
     "text": [
      "C:\\Users\\Shivani Dussa\\AppData\\Local\\Temp\\ipykernel_12156\\1350461881.py:2: UserWarning: [W008] Evaluating Token.similarity based on empty vectors.\n",
      "  print(tokens[0].text, tokens[1].text, tokens[0].similarity(tokens[1]))\n"
     ]
    }
   ],
   "source": [
    "tokens = nlp(\"NarendraModi PrimeMinister\")\n",
    "print(tokens[0].text, tokens[1].text, tokens[0].similarity(tokens[1]))"
   ]
  },
  {
   "cell_type": "code",
   "execution_count": 56,
   "id": "49754eaa",
   "metadata": {},
   "outputs": [
    {
     "name": "stdout",
     "output_type": "stream",
     "text": [
      "obama america 0.11213300377130508\n",
      "india telangana 0.48041635751724243\n",
      "blue green 0.7440648078918457\n",
      "laptop charger 0.5122919678688049\n"
     ]
    }
   ],
   "source": [
    "tokens = nlp(\"obama america\")\n",
    "print(tokens[0].text,tokens[1].text,tokens[0].similarity(tokens[1]))\n",
    "tokens = nlp(\"india telangana\")\n",
    "print(tokens[0].text,tokens[1].text,tokens[0].similarity(tokens[1]))\n",
    "tokens = nlp(\"blue green\")\n",
    "print(tokens[0].text,tokens[1].text,tokens[0].similarity(tokens[1]))\n",
    "tokens = nlp(\"laptop charger\")\n",
    "print(tokens[0].text,tokens[1].text,tokens[0].similarity(tokens[1]))"
   ]
  },
  {
   "cell_type": "code",
   "execution_count": 61,
   "id": "6c98f5d7",
   "metadata": {},
   "outputs": [
    {
     "data": {
      "text/plain": [
       "0.6646701097488403"
      ]
     },
     "execution_count": 61,
     "metadata": {},
     "output_type": "execute_result"
    }
   ],
   "source": [
    "apple = nlp.vocab['apple']\n",
    "banana = nlp.vocab['banana']\n",
    "apple.similarity(banana)"
   ]
  },
  {
   "cell_type": "code",
   "execution_count": 66,
   "id": "5a0947c9",
   "metadata": {},
   "outputs": [
    {
     "name": "stdout",
     "output_type": "stream",
     "text": [
      "apple vs banana: 0.6646701097488403\n",
      "car vs bus: 0.525935709476471\n",
      "bed vs pillow: 0.6472645998001099\n",
      "tomatoes vs cucumber: 0.9015073776245117\n"
     ]
    }
   ],
   "source": [
    "print(\"apple vs banana:\",nlp.vocab['apple'].similarity(nlp.vocab['banana']))\n",
    "print(\"car vs bus:\",nlp.vocab['car'].similarity(nlp.vocab['bus']))\n",
    "print(\"bed vs pillow:\",nlp.vocab['bed'].similarity(nlp.vocab['pillow']))\n",
    "print(\"tomatoes vs cucumber:\",nlp.vocab['tomatoes'].similarity(nlp.vocab['cucumber']))\n"
   ]
  },
  {
   "cell_type": "code",
   "execution_count": 68,
   "id": "189ab230",
   "metadata": {},
   "outputs": [
    {
     "data": {
      "text/plain": [
       "((300,), (300,), (300,), (300,))"
      ]
     },
     "execution_count": 68,
     "metadata": {},
     "output_type": "execute_result"
    }
   ],
   "source": [
    "from sklearn.metrics.pairwise import cosine_similarity as c_sim\n",
    "\n",
    "man = nlp.vocab['man'].vector\n",
    "woman = nlp.vocab['woman'].vector\n",
    "queen = nlp.vocab['queen'].vector\n",
    "king = nlp.vocab['king'].vector\n",
    "man.shape,woman.shape,queen.shape,king.shape"
   ]
  },
  {
   "cell_type": "code",
   "execution_count": 69,
   "id": "8400aa29",
   "metadata": {},
   "outputs": [
    {
     "data": {
      "text/plain": [
       "((1, 300), (1, 300), (1, 300), (1, 300))"
      ]
     },
     "execution_count": 69,
     "metadata": {},
     "output_type": "execute_result"
    }
   ],
   "source": [
    "# reshaping as required by cosine_similarity function\n",
    "man = man.reshape(1,-1)\n",
    "woman = woman.reshape(1,-1)\n",
    "queen = queen.reshape(1,-1)\n",
    "king = king.reshape(1,-1)\n",
    "man.shape,woman.shape,queen.shape,king.shape"
   ]
  },
  {
   "cell_type": "code",
   "execution_count": 70,
   "id": "7cb325cc",
   "metadata": {},
   "outputs": [
    {
     "name": "stdout",
     "output_type": "stream",
     "text": [
      "similarity between our calculated king vector and real king vector is : [[0.6300732]]\n"
     ]
    }
   ],
   "source": [
    "calculated_king = man - woman + queen    # this is reasoning man-woman +queen = ? answer is king we given as calculated king\n",
    "print(\"similarity between our calculated king vector and real king vector is :\",c_sim(calculated_king,king))"
   ]
  },
  {
   "cell_type": "code",
   "execution_count": 73,
   "id": "110edf22",
   "metadata": {},
   "outputs": [
    {
     "name": "stdout",
     "output_type": "stream",
     "text": [
      "simiarity between calculated queen vector and real queen vector is: [[0.6178014]]\n"
     ]
    }
   ],
   "source": [
    "calculated_queen = woman - man + king\n",
    "\n",
    "print(\"simiarity between calculated queen vector and real queen vector is:\",c_sim(calculated_queen,queen))"
   ]
  },
  {
   "cell_type": "code",
   "execution_count": 74,
   "id": "29fba779",
   "metadata": {},
   "outputs": [
    {
     "data": {
      "text/plain": [
       "((300,), (300,), (300,), (300,))"
      ]
     },
     "execution_count": 74,
     "metadata": {},
     "output_type": "execute_result"
    }
   ],
   "source": [
    "book = nlp.vocab['book'].vector\n",
    "paper = nlp.vocab['paper'].vector\n",
    "pencil = nlp.vocab['pencil'].vector\n",
    "pen = nlp.vocab['pen'].vector\n",
    "book.shape,paper.shape,pencil.shape,pen.shape"
   ]
  },
  {
   "cell_type": "code",
   "execution_count": 75,
   "id": "10a18a00",
   "metadata": {},
   "outputs": [
    {
     "data": {
      "text/plain": [
       "((1, 300), (1, 300), (1, 300), (1, 300))"
      ]
     },
     "execution_count": 75,
     "metadata": {},
     "output_type": "execute_result"
    }
   ],
   "source": [
    "book = book.reshape(1,-1)\n",
    "paper = paper.reshape(1,-1)\n",
    "pencil = pencil.reshape(1,-1)\n",
    "pen = pen.reshape(1,-1)\n",
    "book.shape,paper.shape,pencil.shape,pen.shape"
   ]
  },
  {
   "cell_type": "code",
   "execution_count": 80,
   "id": "75580df3",
   "metadata": {},
   "outputs": [
    {
     "name": "stdout",
     "output_type": "stream",
     "text": [
      "simiarity between calculated queen vector and real queen vector is: [[0.04330456]]\n"
     ]
    }
   ],
   "source": [
    "calculated_pencil = book + paper -pen\n",
    "print(\"simiarity between calculated pencil vector and real pencil vector is:\",c_sim(calculated_pencil,pencil))"
   ]
  },
  {
   "cell_type": "code",
   "execution_count": null,
   "id": "58087d00",
   "metadata": {},
   "outputs": [],
   "source": []
  }
 ],
 "metadata": {
  "kernelspec": {
   "display_name": "Python 3 (ipykernel)",
   "language": "python",
   "name": "python3"
  },
  "language_info": {
   "codemirror_mode": {
    "name": "ipython",
    "version": 3
   },
   "file_extension": ".py",
   "mimetype": "text/x-python",
   "name": "python",
   "nbconvert_exporter": "python",
   "pygments_lexer": "ipython3",
   "version": "3.9.12"
  }
 },
 "nbformat": 4,
 "nbformat_minor": 5
}
